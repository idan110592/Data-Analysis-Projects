{
 "cells": [
  {
   "cell_type": "markdown",
   "metadata": {},
   "source": [
    "# Making Business Decisions Based on Data - A/B Test Analysis\n",
    "\n",
    "In this project, we will conduct an analysis for a big online store. There are several hypotheses that may help boost revenue, that need to be prioritized. Then, results of an A/B test should be analysed. The goal of this analysis is to determine whether the changes in group B should be implemented.\n",
    "\n",
    "First, we will load all datasets, quickly go over them and prepare them for analysis. Then, hypotheses will be prioritized. In the final part, A/B tests results will be analyzed. "
   ]
  },
  {
   "cell_type": "markdown",
   "metadata": {},
   "source": [
    "## Data Preperation\n",
    "\n",
    "In this section, all datasets will be loaded, examined and preprocessed. "
   ]
  },
  {
   "cell_type": "code",
   "execution_count": 1,
   "metadata": {},
   "outputs": [],
   "source": [
    "import pandas as pd\n",
    "import numpy as np\n",
    "import matplotlib.pyplot as plt\n",
    "import scipy.stats as stats"
   ]
  },
  {
   "cell_type": "code",
   "execution_count": 2,
   "metadata": {},
   "outputs": [],
   "source": [
    "## Load all 3 datasets\n",
    "\n",
    "try:\n",
    "    hypotheses = pd.read_csv('hypotheses_us.csv', sep=';')\n",
    "except:\n",
    "    hypotheses = pd.read_csv('/datasets/hypotheses_us.csv', sep=';')\n",
    "\n",
    "try:\n",
    "    orders = pd.read_csv('orders_us.csv',\n",
    "                    parse_dates=['date'])\n",
    "except:\n",
    "    orders = pd.read_csv('/datasets/orders_us.csv',\n",
    "                    parse_dates=['date'])\n",
    "\n",
    "try:\n",
    "    visits = pd.read_csv('visits_us.csv',\n",
    "                        parse_dates=['date'])\n",
    "except:\n",
    "    visits = pd.read_csv('/datasets/visits_us.csv',\n",
    "                    parse_dates=['date'])"
   ]
  },
  {
   "cell_type": "markdown",
   "metadata": {},
   "source": [
    "### **`hypotheses`**"
   ]
  },
  {
   "cell_type": "code",
   "execution_count": 3,
   "metadata": {},
   "outputs": [
    {
     "name": "stdout",
     "output_type": "stream",
     "text": [
      "<class 'pandas.core.frame.DataFrame'>\n",
      "RangeIndex: 9 entries, 0 to 8\n",
      "Data columns (total 5 columns):\n",
      "Hypothesis    9 non-null object\n",
      "Reach         9 non-null int64\n",
      "Impact        9 non-null int64\n",
      "Confidence    9 non-null int64\n",
      "Effort        9 non-null int64\n",
      "dtypes: int64(4), object(1)\n",
      "memory usage: 488.0+ bytes\n"
     ]
    },
    {
     "data": {
      "text/html": [
       "<div>\n",
       "<style scoped>\n",
       "    .dataframe tbody tr th:only-of-type {\n",
       "        vertical-align: middle;\n",
       "    }\n",
       "\n",
       "    .dataframe tbody tr th {\n",
       "        vertical-align: top;\n",
       "    }\n",
       "\n",
       "    .dataframe thead th {\n",
       "        text-align: right;\n",
       "    }\n",
       "</style>\n",
       "<table border=\"1\" class=\"dataframe\">\n",
       "  <thead>\n",
       "    <tr style=\"text-align: right;\">\n",
       "      <th></th>\n",
       "      <th>Hypothesis</th>\n",
       "      <th>Reach</th>\n",
       "      <th>Impact</th>\n",
       "      <th>Confidence</th>\n",
       "      <th>Effort</th>\n",
       "    </tr>\n",
       "  </thead>\n",
       "  <tbody>\n",
       "    <tr>\n",
       "      <td>0</td>\n",
       "      <td>Add two new channels for attracting traffic. T...</td>\n",
       "      <td>3</td>\n",
       "      <td>10</td>\n",
       "      <td>8</td>\n",
       "      <td>6</td>\n",
       "    </tr>\n",
       "    <tr>\n",
       "      <td>1</td>\n",
       "      <td>Launch your own delivery service. This will sh...</td>\n",
       "      <td>2</td>\n",
       "      <td>5</td>\n",
       "      <td>4</td>\n",
       "      <td>10</td>\n",
       "    </tr>\n",
       "    <tr>\n",
       "      <td>2</td>\n",
       "      <td>Add product recommendation blocks to the store...</td>\n",
       "      <td>8</td>\n",
       "      <td>3</td>\n",
       "      <td>7</td>\n",
       "      <td>3</td>\n",
       "    </tr>\n",
       "    <tr>\n",
       "      <td>3</td>\n",
       "      <td>Change the category structure. This will incre...</td>\n",
       "      <td>8</td>\n",
       "      <td>3</td>\n",
       "      <td>3</td>\n",
       "      <td>8</td>\n",
       "    </tr>\n",
       "    <tr>\n",
       "      <td>4</td>\n",
       "      <td>Change the background color on the main page. ...</td>\n",
       "      <td>3</td>\n",
       "      <td>1</td>\n",
       "      <td>1</td>\n",
       "      <td>1</td>\n",
       "    </tr>\n",
       "  </tbody>\n",
       "</table>\n",
       "</div>"
      ],
      "text/plain": [
       "                                          Hypothesis  Reach  Impact  \\\n",
       "0  Add two new channels for attracting traffic. T...      3      10   \n",
       "1  Launch your own delivery service. This will sh...      2       5   \n",
       "2  Add product recommendation blocks to the store...      8       3   \n",
       "3  Change the category structure. This will incre...      8       3   \n",
       "4  Change the background color on the main page. ...      3       1   \n",
       "\n",
       "   Confidence  Effort  \n",
       "0           8       6  \n",
       "1           4      10  \n",
       "2           7       3  \n",
       "3           3       8  \n",
       "4           1       1  "
      ]
     },
     "execution_count": 3,
     "metadata": {},
     "output_type": "execute_result"
    }
   ],
   "source": [
    "## Overview `hypotheses` dataset\n",
    "\n",
    "hypotheses.info()\n",
    "hypotheses.head()"
   ]
  },
  {
   "cell_type": "markdown",
   "metadata": {},
   "source": [
    "**Conclusion**\n",
    "\n",
    "No need to do any action in `hypotheses`."
   ]
  },
  {
   "cell_type": "markdown",
   "metadata": {},
   "source": [
    "### **`orders`**"
   ]
  },
  {
   "cell_type": "code",
   "execution_count": 4,
   "metadata": {},
   "outputs": [
    {
     "name": "stdout",
     "output_type": "stream",
     "text": [
      "<class 'pandas.core.frame.DataFrame'>\n",
      "RangeIndex: 1197 entries, 0 to 1196\n",
      "Data columns (total 5 columns):\n",
      "transactionId    1197 non-null int64\n",
      "visitorId        1197 non-null int64\n",
      "date             1197 non-null datetime64[ns]\n",
      "revenue          1197 non-null float64\n",
      "group            1197 non-null object\n",
      "dtypes: datetime64[ns](1), float64(1), int64(2), object(1)\n",
      "memory usage: 46.9+ KB\n"
     ]
    },
    {
     "data": {
      "text/html": [
       "<div>\n",
       "<style scoped>\n",
       "    .dataframe tbody tr th:only-of-type {\n",
       "        vertical-align: middle;\n",
       "    }\n",
       "\n",
       "    .dataframe tbody tr th {\n",
       "        vertical-align: top;\n",
       "    }\n",
       "\n",
       "    .dataframe thead th {\n",
       "        text-align: right;\n",
       "    }\n",
       "</style>\n",
       "<table border=\"1\" class=\"dataframe\">\n",
       "  <thead>\n",
       "    <tr style=\"text-align: right;\">\n",
       "      <th></th>\n",
       "      <th>transactionId</th>\n",
       "      <th>visitorId</th>\n",
       "      <th>date</th>\n",
       "      <th>revenue</th>\n",
       "      <th>group</th>\n",
       "    </tr>\n",
       "  </thead>\n",
       "  <tbody>\n",
       "    <tr>\n",
       "      <td>0</td>\n",
       "      <td>3667963787</td>\n",
       "      <td>3312258926</td>\n",
       "      <td>2019-08-15</td>\n",
       "      <td>30.4</td>\n",
       "      <td>B</td>\n",
       "    </tr>\n",
       "    <tr>\n",
       "      <td>1</td>\n",
       "      <td>2804400009</td>\n",
       "      <td>3642806036</td>\n",
       "      <td>2019-08-15</td>\n",
       "      <td>15.2</td>\n",
       "      <td>B</td>\n",
       "    </tr>\n",
       "    <tr>\n",
       "      <td>2</td>\n",
       "      <td>2961555356</td>\n",
       "      <td>4069496402</td>\n",
       "      <td>2019-08-15</td>\n",
       "      <td>10.2</td>\n",
       "      <td>A</td>\n",
       "    </tr>\n",
       "    <tr>\n",
       "      <td>3</td>\n",
       "      <td>3797467345</td>\n",
       "      <td>1196621759</td>\n",
       "      <td>2019-08-15</td>\n",
       "      <td>155.1</td>\n",
       "      <td>B</td>\n",
       "    </tr>\n",
       "    <tr>\n",
       "      <td>4</td>\n",
       "      <td>2282983706</td>\n",
       "      <td>2322279887</td>\n",
       "      <td>2019-08-15</td>\n",
       "      <td>40.5</td>\n",
       "      <td>B</td>\n",
       "    </tr>\n",
       "  </tbody>\n",
       "</table>\n",
       "</div>"
      ],
      "text/plain": [
       "   transactionId   visitorId       date  revenue group\n",
       "0     3667963787  3312258926 2019-08-15     30.4     B\n",
       "1     2804400009  3642806036 2019-08-15     15.2     B\n",
       "2     2961555356  4069496402 2019-08-15     10.2     A\n",
       "3     3797467345  1196621759 2019-08-15    155.1     B\n",
       "4     2282983706  2322279887 2019-08-15     40.5     B"
      ]
     },
     "execution_count": 4,
     "metadata": {},
     "output_type": "execute_result"
    }
   ],
   "source": [
    "## Overview `orders` dataset\n",
    "\n",
    "orders.info()\n",
    "orders.head()"
   ]
  },
  {
   "cell_type": "markdown",
   "metadata": {},
   "source": [
    "**Duplicates**\n",
    "\n",
    "Let's see if there are any duplicates in `transactionId`."
   ]
  },
  {
   "cell_type": "code",
   "execution_count": 5,
   "metadata": {},
   "outputs": [
    {
     "name": "stdout",
     "output_type": "stream",
     "text": [
      "No duplicates in transactionId.\n"
     ]
    }
   ],
   "source": [
    "if (orders['transactionId'].duplicated().sum()):\n",
    "    print(\"There are duplicates in transactionId.\")\n",
    "else:\n",
    "    print(\"No duplicates in transactionId.\")"
   ]
  },
  {
   "cell_type": "markdown",
   "metadata": {},
   "source": [
    "No duplicates. We can move on.\n",
    "\n",
    "**Division to Groups**\n",
    "\n",
    "Now, let's make sure that all users were assigned to the right group. We will check if any user has more than one unique group id."
   ]
  },
  {
   "cell_type": "code",
   "execution_count": 6,
   "metadata": {},
   "outputs": [
    {
     "data": {
      "text/html": [
       "<div>\n",
       "<style scoped>\n",
       "    .dataframe tbody tr th:only-of-type {\n",
       "        vertical-align: middle;\n",
       "    }\n",
       "\n",
       "    .dataframe tbody tr th {\n",
       "        vertical-align: top;\n",
       "    }\n",
       "\n",
       "    .dataframe thead th {\n",
       "        text-align: right;\n",
       "    }\n",
       "</style>\n",
       "<table border=\"1\" class=\"dataframe\">\n",
       "  <thead>\n",
       "    <tr style=\"text-align: right;\">\n",
       "      <th></th>\n",
       "      <th>visitorId</th>\n",
       "      <th>group</th>\n",
       "    </tr>\n",
       "  </thead>\n",
       "  <tbody>\n",
       "    <tr>\n",
       "      <td>0</td>\n",
       "      <td>2579882178</td>\n",
       "      <td>2</td>\n",
       "    </tr>\n",
       "    <tr>\n",
       "      <td>1</td>\n",
       "      <td>2712142231</td>\n",
       "      <td>2</td>\n",
       "    </tr>\n",
       "    <tr>\n",
       "      <td>2</td>\n",
       "      <td>1668030113</td>\n",
       "      <td>2</td>\n",
       "    </tr>\n",
       "    <tr>\n",
       "      <td>3</td>\n",
       "      <td>1404934699</td>\n",
       "      <td>2</td>\n",
       "    </tr>\n",
       "    <tr>\n",
       "      <td>4</td>\n",
       "      <td>237748145</td>\n",
       "      <td>2</td>\n",
       "    </tr>\n",
       "  </tbody>\n",
       "</table>\n",
       "</div>"
      ],
      "text/plain": [
       "    visitorId  group\n",
       "0  2579882178      2\n",
       "1  2712142231      2\n",
       "2  1668030113      2\n",
       "3  1404934699      2\n",
       "4   237748145      2"
      ]
     },
     "execution_count": 6,
     "metadata": {},
     "output_type": "execute_result"
    }
   ],
   "source": [
    "## Find users with more than 1 group\n",
    "\n",
    "orders.groupby('visitorId')['group'].nunique().sort_values(ascending=False).reset_index().head()"
   ]
  },
  {
   "cell_type": "code",
   "execution_count": 7,
   "metadata": {},
   "outputs": [
    {
     "name": "stdout",
     "output_type": "stream",
     "text": [
      "Number of users who were assigned to more than one group: 58.\n",
      "Overall number of unique users: 1031.\n"
     ]
    }
   ],
   "source": [
    "## Calculate counts to get better perspective\n",
    "\n",
    "numBothGroups = orders.groupby('visitorId')['group'].nunique().sort_values(ascending=False).reset_index().query('group > 1').drop_duplicates()['visitorId'].count()\n",
    "overallUsers = orders['visitorId'].nunique()\n",
    "\n",
    "print('Number of users who were assigned to more than one group: {}.'\n",
    "      .format(numBothGroups))\n",
    "print('Overall number of unique users: {}.'\n",
    "      .format(overallUsers))"
   ]
  },
  {
   "cell_type": "markdown",
   "metadata": {},
   "source": [
    "58 users were indeed recorded under both groups. This could mean that there's a problem with the test: it could be a problem with how we segment the users to the groups, and it better be checked. For now, we will remove them from the test by removing them from `orders` dataset."
   ]
  },
  {
   "cell_type": "code",
   "execution_count": 8,
   "metadata": {},
   "outputs": [
    {
     "name": "stdout",
     "output_type": "stream",
     "text": [
      "Number of users removed: 58.\n"
     ]
    }
   ],
   "source": [
    "## Prepare a list of visitorIds to be excluded\n",
    "\n",
    "removeDoubleGroup = orders[orders['visitorId'].isin(\n",
    "orders.groupby('visitorId')['group'].nunique().sort_values(ascending=False).reset_index().query('group > 1').drop_duplicates()['visitorId']\n",
    ")]\n",
    "\n",
    "## Exclude 58 users with double group value\n",
    "\n",
    "orders = orders.drop(removeDoubleGroup.index)\n",
    "\n",
    "## Calculate the number of users removed\n",
    "\n",
    "print('Number of users removed: {}.'\n",
    "      .format(overallUsers - orders['visitorId'].nunique()))"
   ]
  },
  {
   "cell_type": "markdown",
   "metadata": {},
   "source": [
    "Let's see now how users are divided between the groups."
   ]
  },
  {
   "cell_type": "code",
   "execution_count": 9,
   "metadata": {},
   "outputs": [
    {
     "data": {
      "text/plain": [
       "group\n",
       "A    445\n",
       "B    528\n",
       "Name: visitorId, dtype: int64"
      ]
     },
     "execution_count": 9,
     "metadata": {},
     "output_type": "execute_result"
    }
   ],
   "source": [
    "orders.groupby(['group'])['visitorId'].nunique()"
   ]
  },
  {
   "cell_type": "markdown",
   "metadata": {},
   "source": [
    "There are more users in group B (54% to 46%). We need to keep that in mind in our analysis conclusions."
   ]
  },
  {
   "cell_type": "code",
   "execution_count": 10,
   "metadata": {},
   "outputs": [
    {
     "data": {
      "text/html": [
       "<div>\n",
       "<style scoped>\n",
       "    .dataframe tbody tr th:only-of-type {\n",
       "        vertical-align: middle;\n",
       "    }\n",
       "\n",
       "    .dataframe tbody tr th {\n",
       "        vertical-align: top;\n",
       "    }\n",
       "\n",
       "    .dataframe thead th {\n",
       "        text-align: right;\n",
       "    }\n",
       "</style>\n",
       "<table border=\"1\" class=\"dataframe\">\n",
       "  <thead>\n",
       "    <tr style=\"text-align: right;\">\n",
       "      <th></th>\n",
       "      <th>transactionId</th>\n",
       "      <th>visitorId</th>\n",
       "      <th>revenue</th>\n",
       "    </tr>\n",
       "  </thead>\n",
       "  <tbody>\n",
       "    <tr>\n",
       "      <td>count</td>\n",
       "      <td>1.016000e+03</td>\n",
       "      <td>1.016000e+03</td>\n",
       "      <td>1016.000000</td>\n",
       "    </tr>\n",
       "    <tr>\n",
       "      <td>mean</td>\n",
       "      <td>2.155085e+09</td>\n",
       "      <td>2.128677e+09</td>\n",
       "      <td>130.770866</td>\n",
       "    </tr>\n",
       "    <tr>\n",
       "      <td>std</td>\n",
       "      <td>1.234372e+09</td>\n",
       "      <td>1.221578e+09</td>\n",
       "      <td>648.079810</td>\n",
       "    </tr>\n",
       "    <tr>\n",
       "      <td>min</td>\n",
       "      <td>1.062393e+06</td>\n",
       "      <td>5.114589e+06</td>\n",
       "      <td>5.000000</td>\n",
       "    </tr>\n",
       "    <tr>\n",
       "      <td>25%</td>\n",
       "      <td>1.143481e+09</td>\n",
       "      <td>1.043655e+09</td>\n",
       "      <td>20.775000</td>\n",
       "    </tr>\n",
       "    <tr>\n",
       "      <td>50%</td>\n",
       "      <td>2.144499e+09</td>\n",
       "      <td>2.150274e+09</td>\n",
       "      <td>50.100000</td>\n",
       "    </tr>\n",
       "    <tr>\n",
       "      <td>75%</td>\n",
       "      <td>3.256513e+09</td>\n",
       "      <td>3.146991e+09</td>\n",
       "      <td>126.950000</td>\n",
       "    </tr>\n",
       "    <tr>\n",
       "      <td>max</td>\n",
       "      <td>4.288552e+09</td>\n",
       "      <td>4.283872e+09</td>\n",
       "      <td>19920.400000</td>\n",
       "    </tr>\n",
       "  </tbody>\n",
       "</table>\n",
       "</div>"
      ],
      "text/plain": [
       "       transactionId     visitorId       revenue\n",
       "count   1.016000e+03  1.016000e+03   1016.000000\n",
       "mean    2.155085e+09  2.128677e+09    130.770866\n",
       "std     1.234372e+09  1.221578e+09    648.079810\n",
       "min     1.062393e+06  5.114589e+06      5.000000\n",
       "25%     1.143481e+09  1.043655e+09     20.775000\n",
       "50%     2.144499e+09  2.150274e+09     50.100000\n",
       "75%     3.256513e+09  3.146991e+09    126.950000\n",
       "max     4.288552e+09  4.283872e+09  19920.400000"
      ]
     },
     "execution_count": 10,
     "metadata": {},
     "output_type": "execute_result"
    }
   ],
   "source": [
    "## General overview of `orders`\n",
    "\n",
    "orders.describe()"
   ]
  },
  {
   "cell_type": "markdown",
   "metadata": {},
   "source": [
    "Looking at the maximum value for revenue, we see already a value that will probably have a great impact on the data."
   ]
  },
  {
   "cell_type": "code",
   "execution_count": 11,
   "metadata": {},
   "outputs": [
    {
     "data": {
      "text/plain": [
       "count                    1016\n",
       "unique                     31\n",
       "top       2019-08-05 00:00:00\n",
       "freq                       43\n",
       "first     2019-08-01 00:00:00\n",
       "last      2019-08-31 00:00:00\n",
       "Name: date, dtype: object"
      ]
     },
     "execution_count": 11,
     "metadata": {},
     "output_type": "execute_result"
    }
   ],
   "source": [
    "## Checking the time period of the data\n",
    "\n",
    "orders['date'].describe()"
   ]
  },
  {
   "cell_type": "code",
   "execution_count": 12,
   "metadata": {},
   "outputs": [
    {
     "data": {
      "text/plain": [
       "B    548\n",
       "A    468\n",
       "Name: group, dtype: int64"
      ]
     },
     "execution_count": 12,
     "metadata": {},
     "output_type": "execute_result"
    }
   ],
   "source": [
    "## Checking if there are other group values than 'A' and 'B'\n",
    "\n",
    "orders['group'].value_counts()"
   ]
  },
  {
   "cell_type": "markdown",
   "metadata": {},
   "source": [
    "**Conclusion**\n",
    "\n",
    "Users that were assigned to both groups were removed and will not be part of the analysis. It should be noted that there are 9% more users in group B.\n",
    "All seems fine now in `orders`."
   ]
  },
  {
   "cell_type": "markdown",
   "metadata": {},
   "source": [
    "### **`visits`**"
   ]
  },
  {
   "cell_type": "code",
   "execution_count": 13,
   "metadata": {},
   "outputs": [
    {
     "name": "stdout",
     "output_type": "stream",
     "text": [
      "<class 'pandas.core.frame.DataFrame'>\n",
      "RangeIndex: 62 entries, 0 to 61\n",
      "Data columns (total 3 columns):\n",
      "date      62 non-null datetime64[ns]\n",
      "group     62 non-null object\n",
      "visits    62 non-null int64\n",
      "dtypes: datetime64[ns](1), int64(1), object(1)\n",
      "memory usage: 1.6+ KB\n"
     ]
    },
    {
     "data": {
      "text/html": [
       "<div>\n",
       "<style scoped>\n",
       "    .dataframe tbody tr th:only-of-type {\n",
       "        vertical-align: middle;\n",
       "    }\n",
       "\n",
       "    .dataframe tbody tr th {\n",
       "        vertical-align: top;\n",
       "    }\n",
       "\n",
       "    .dataframe thead th {\n",
       "        text-align: right;\n",
       "    }\n",
       "</style>\n",
       "<table border=\"1\" class=\"dataframe\">\n",
       "  <thead>\n",
       "    <tr style=\"text-align: right;\">\n",
       "      <th></th>\n",
       "      <th>date</th>\n",
       "      <th>group</th>\n",
       "      <th>visits</th>\n",
       "    </tr>\n",
       "  </thead>\n",
       "  <tbody>\n",
       "    <tr>\n",
       "      <td>0</td>\n",
       "      <td>2019-08-01</td>\n",
       "      <td>A</td>\n",
       "      <td>719</td>\n",
       "    </tr>\n",
       "    <tr>\n",
       "      <td>1</td>\n",
       "      <td>2019-08-02</td>\n",
       "      <td>A</td>\n",
       "      <td>619</td>\n",
       "    </tr>\n",
       "    <tr>\n",
       "      <td>2</td>\n",
       "      <td>2019-08-03</td>\n",
       "      <td>A</td>\n",
       "      <td>507</td>\n",
       "    </tr>\n",
       "    <tr>\n",
       "      <td>3</td>\n",
       "      <td>2019-08-04</td>\n",
       "      <td>A</td>\n",
       "      <td>717</td>\n",
       "    </tr>\n",
       "    <tr>\n",
       "      <td>4</td>\n",
       "      <td>2019-08-05</td>\n",
       "      <td>A</td>\n",
       "      <td>756</td>\n",
       "    </tr>\n",
       "  </tbody>\n",
       "</table>\n",
       "</div>"
      ],
      "text/plain": [
       "        date group  visits\n",
       "0 2019-08-01     A     719\n",
       "1 2019-08-02     A     619\n",
       "2 2019-08-03     A     507\n",
       "3 2019-08-04     A     717\n",
       "4 2019-08-05     A     756"
      ]
     },
     "execution_count": 13,
     "metadata": {},
     "output_type": "execute_result"
    }
   ],
   "source": [
    "## Print general overview of `visits`\n",
    "\n",
    "visits.info()\n",
    "visits.head()"
   ]
  },
  {
   "cell_type": "code",
   "execution_count": 14,
   "metadata": {},
   "outputs": [
    {
     "data": {
      "text/plain": [
       "count                      62\n",
       "unique                     31\n",
       "top       2019-08-02 00:00:00\n",
       "freq                        2\n",
       "first     2019-08-01 00:00:00\n",
       "last      2019-08-31 00:00:00\n",
       "Name: date, dtype: object"
      ]
     },
     "execution_count": 14,
     "metadata": {},
     "output_type": "execute_result"
    }
   ],
   "source": [
    "## Checking the time period of the data\n",
    "\n",
    "visits['date'].describe()"
   ]
  },
  {
   "cell_type": "code",
   "execution_count": 15,
   "metadata": {},
   "outputs": [
    {
     "data": {
      "text/plain": [
       "A    31\n",
       "B    31\n",
       "Name: group, dtype: int64"
      ]
     },
     "execution_count": 15,
     "metadata": {},
     "output_type": "execute_result"
    }
   ],
   "source": [
    "## Checking if there are other group values than 'A' and 'B'\n",
    "\n",
    "visits['group'].value_counts()"
   ]
  },
  {
   "cell_type": "code",
   "execution_count": 16,
   "metadata": {},
   "outputs": [
    {
     "data": {
      "text/plain": [
       "count     62.000000\n",
       "mean     607.290323\n",
       "std      114.400560\n",
       "min      361.000000\n",
       "25%      534.000000\n",
       "50%      624.500000\n",
       "75%      710.500000\n",
       "max      770.000000\n",
       "Name: visits, dtype: float64"
      ]
     },
     "execution_count": 16,
     "metadata": {},
     "output_type": "execute_result"
    }
   ],
   "source": [
    "## General overview of `visits` column\n",
    "\n",
    "visits['visits'].describe()"
   ]
  },
  {
   "cell_type": "markdown",
   "metadata": {},
   "source": [
    "**Conclusion**\n",
    "\n",
    "All seems fine in `visits`, no need for any preprocessing measure."
   ]
  },
  {
   "cell_type": "markdown",
   "metadata": {},
   "source": [
    "### Missing values\n",
    "We will check whether there are missing values in any of the datasets."
   ]
  },
  {
   "cell_type": "code",
   "execution_count": 17,
   "metadata": {},
   "outputs": [
    {
     "name": "stdout",
     "output_type": "stream",
     "text": [
      "No missing values in `hypotheses`.\n",
      "No missing values in `orders`.\n",
      "No missing values in `visits`.\n"
     ]
    }
   ],
   "source": [
    "## Check for missing values\n",
    "\n",
    "if (hypotheses.isnull().sum().sum() == 0):\n",
    "    print('No missing values in `hypotheses`.')\n",
    "else:\n",
    "    print('There are missing values in `hypotheses`.')\n",
    "\n",
    "if (orders.isnull().sum().sum() == 0):\n",
    "    print('No missing values in `orders`.')\n",
    "else:\n",
    "    print('There are missing values in `orders`.')\n",
    "\n",
    "if (visits.isnull().sum().sum() == 0):\n",
    "    print('No missing values in `visits`.')\n",
    "else:\n",
    "    print('There are missing values in `visits`.')\n",
    "    "
   ]
  },
  {
   "cell_type": "markdown",
   "metadata": {},
   "source": [
    "There are no missing values in both datasets."
   ]
  },
  {
   "cell_type": "markdown",
   "metadata": {},
   "source": [
    "### Conclusions\n",
    "\n",
    "In `orders` dataset, some user Ids were assigned to both groups, A and B. This should not happen: there might have been a problem in the way the groups were assigned, and it better be checked. For the purposes of this analysis, these users' data will be excluded from the analysis and removed from the dataset. \n",
    "\n",
    "Duplicated values and missing values were checked - none of them exist in any of the datasets.\n",
    "\n",
    "It should also be noted that there are 9% more users in group B.\n",
    "\n",
    "No action was required in `visits` and `hypotheses` sets.\n",
    "\n",
    "The data are now ready for analysis."
   ]
  },
  {
   "cell_type": "markdown",
   "metadata": {},
   "source": [
    "## Prioritizing Hypotheses\n",
    "\n",
    "In this section, the hypotheses in `hypotheses` dataset will be prioritized. This part will follow this structure:\n",
    "- Prioritizing by 'ICE' framework.\n",
    "- Prioritizing by 'RICE' framework.\n",
    "- Examination of the differences in the two frameworks."
   ]
  },
  {
   "cell_type": "code",
   "execution_count": 18,
   "metadata": {},
   "outputs": [
    {
     "data": {
      "text/html": [
       "<div>\n",
       "<style scoped>\n",
       "    .dataframe tbody tr th:only-of-type {\n",
       "        vertical-align: middle;\n",
       "    }\n",
       "\n",
       "    .dataframe tbody tr th {\n",
       "        vertical-align: top;\n",
       "    }\n",
       "\n",
       "    .dataframe thead th {\n",
       "        text-align: right;\n",
       "    }\n",
       "</style>\n",
       "<table border=\"1\" class=\"dataframe\">\n",
       "  <thead>\n",
       "    <tr style=\"text-align: right;\">\n",
       "      <th></th>\n",
       "      <th>Hypothesis</th>\n",
       "      <th>Reach</th>\n",
       "      <th>Impact</th>\n",
       "      <th>Confidence</th>\n",
       "      <th>Effort</th>\n",
       "    </tr>\n",
       "  </thead>\n",
       "  <tbody>\n",
       "    <tr>\n",
       "      <td>0</td>\n",
       "      <td>Add two new channels for attracting traffic. T...</td>\n",
       "      <td>3</td>\n",
       "      <td>10</td>\n",
       "      <td>8</td>\n",
       "      <td>6</td>\n",
       "    </tr>\n",
       "    <tr>\n",
       "      <td>1</td>\n",
       "      <td>Launch your own delivery service. This will sh...</td>\n",
       "      <td>2</td>\n",
       "      <td>5</td>\n",
       "      <td>4</td>\n",
       "      <td>10</td>\n",
       "    </tr>\n",
       "    <tr>\n",
       "      <td>2</td>\n",
       "      <td>Add product recommendation blocks to the store...</td>\n",
       "      <td>8</td>\n",
       "      <td>3</td>\n",
       "      <td>7</td>\n",
       "      <td>3</td>\n",
       "    </tr>\n",
       "    <tr>\n",
       "      <td>3</td>\n",
       "      <td>Change the category structure. This will incre...</td>\n",
       "      <td>8</td>\n",
       "      <td>3</td>\n",
       "      <td>3</td>\n",
       "      <td>8</td>\n",
       "    </tr>\n",
       "    <tr>\n",
       "      <td>4</td>\n",
       "      <td>Change the background color on the main page. ...</td>\n",
       "      <td>3</td>\n",
       "      <td>1</td>\n",
       "      <td>1</td>\n",
       "      <td>1</td>\n",
       "    </tr>\n",
       "    <tr>\n",
       "      <td>5</td>\n",
       "      <td>Add a customer review page. This will increase...</td>\n",
       "      <td>3</td>\n",
       "      <td>2</td>\n",
       "      <td>2</td>\n",
       "      <td>3</td>\n",
       "    </tr>\n",
       "    <tr>\n",
       "      <td>6</td>\n",
       "      <td>Show banners with current offers and sales on ...</td>\n",
       "      <td>5</td>\n",
       "      <td>3</td>\n",
       "      <td>8</td>\n",
       "      <td>3</td>\n",
       "    </tr>\n",
       "    <tr>\n",
       "      <td>7</td>\n",
       "      <td>Add a subscription form to all the main pages....</td>\n",
       "      <td>10</td>\n",
       "      <td>7</td>\n",
       "      <td>8</td>\n",
       "      <td>5</td>\n",
       "    </tr>\n",
       "    <tr>\n",
       "      <td>8</td>\n",
       "      <td>Launch a promotion that gives users discounts ...</td>\n",
       "      <td>1</td>\n",
       "      <td>9</td>\n",
       "      <td>9</td>\n",
       "      <td>5</td>\n",
       "    </tr>\n",
       "  </tbody>\n",
       "</table>\n",
       "</div>"
      ],
      "text/plain": [
       "                                          Hypothesis  Reach  Impact  \\\n",
       "0  Add two new channels for attracting traffic. T...      3      10   \n",
       "1  Launch your own delivery service. This will sh...      2       5   \n",
       "2  Add product recommendation blocks to the store...      8       3   \n",
       "3  Change the category structure. This will incre...      8       3   \n",
       "4  Change the background color on the main page. ...      3       1   \n",
       "5  Add a customer review page. This will increase...      3       2   \n",
       "6  Show banners with current offers and sales on ...      5       3   \n",
       "7  Add a subscription form to all the main pages....     10       7   \n",
       "8  Launch a promotion that gives users discounts ...      1       9   \n",
       "\n",
       "   Confidence  Effort  \n",
       "0           8       6  \n",
       "1           4      10  \n",
       "2           7       3  \n",
       "3           3       8  \n",
       "4           1       1  \n",
       "5           2       3  \n",
       "6           8       3  \n",
       "7           8       5  \n",
       "8           9       5  "
      ]
     },
     "execution_count": 18,
     "metadata": {},
     "output_type": "execute_result"
    }
   ],
   "source": [
    "## Overview of the hypotheses\n",
    "\n",
    "hypotheses"
   ]
  },
  {
   "cell_type": "markdown",
   "metadata": {},
   "source": [
    "### 'ICE'\n",
    "'ICE' framework is calculated as: Impact * Confidence / Effort."
   ]
  },
  {
   "cell_type": "code",
   "execution_count": 19,
   "metadata": {},
   "outputs": [
    {
     "data": {
      "text/html": [
       "<div>\n",
       "<style scoped>\n",
       "    .dataframe tbody tr th:only-of-type {\n",
       "        vertical-align: middle;\n",
       "    }\n",
       "\n",
       "    .dataframe tbody tr th {\n",
       "        vertical-align: top;\n",
       "    }\n",
       "\n",
       "    .dataframe thead th {\n",
       "        text-align: right;\n",
       "    }\n",
       "</style>\n",
       "<table border=\"1\" class=\"dataframe\">\n",
       "  <thead>\n",
       "    <tr style=\"text-align: right;\">\n",
       "      <th></th>\n",
       "      <th>Hypothesis</th>\n",
       "      <th>ICE</th>\n",
       "    </tr>\n",
       "  </thead>\n",
       "  <tbody>\n",
       "    <tr>\n",
       "      <td>8</td>\n",
       "      <td>Launch a promotion that gives users discounts ...</td>\n",
       "      <td>16.200000</td>\n",
       "    </tr>\n",
       "    <tr>\n",
       "      <td>0</td>\n",
       "      <td>Add two new channels for attracting traffic. T...</td>\n",
       "      <td>13.333333</td>\n",
       "    </tr>\n",
       "    <tr>\n",
       "      <td>7</td>\n",
       "      <td>Add a subscription form to all the main pages....</td>\n",
       "      <td>11.200000</td>\n",
       "    </tr>\n",
       "    <tr>\n",
       "      <td>6</td>\n",
       "      <td>Show banners with current offers and sales on ...</td>\n",
       "      <td>8.000000</td>\n",
       "    </tr>\n",
       "    <tr>\n",
       "      <td>2</td>\n",
       "      <td>Add product recommendation blocks to the store...</td>\n",
       "      <td>7.000000</td>\n",
       "    </tr>\n",
       "    <tr>\n",
       "      <td>1</td>\n",
       "      <td>Launch your own delivery service. This will sh...</td>\n",
       "      <td>2.000000</td>\n",
       "    </tr>\n",
       "    <tr>\n",
       "      <td>5</td>\n",
       "      <td>Add a customer review page. This will increase...</td>\n",
       "      <td>1.333333</td>\n",
       "    </tr>\n",
       "    <tr>\n",
       "      <td>3</td>\n",
       "      <td>Change the category structure. This will incre...</td>\n",
       "      <td>1.125000</td>\n",
       "    </tr>\n",
       "    <tr>\n",
       "      <td>4</td>\n",
       "      <td>Change the background color on the main page. ...</td>\n",
       "      <td>1.000000</td>\n",
       "    </tr>\n",
       "  </tbody>\n",
       "</table>\n",
       "</div>"
      ],
      "text/plain": [
       "                                          Hypothesis        ICE\n",
       "8  Launch a promotion that gives users discounts ...  16.200000\n",
       "0  Add two new channels for attracting traffic. T...  13.333333\n",
       "7  Add a subscription form to all the main pages....  11.200000\n",
       "6  Show banners with current offers and sales on ...   8.000000\n",
       "2  Add product recommendation blocks to the store...   7.000000\n",
       "1  Launch your own delivery service. This will sh...   2.000000\n",
       "5  Add a customer review page. This will increase...   1.333333\n",
       "3  Change the category structure. This will incre...   1.125000\n",
       "4  Change the background color on the main page. ...   1.000000"
      ]
     },
     "execution_count": 19,
     "metadata": {},
     "output_type": "execute_result"
    }
   ],
   "source": [
    "## Calculate 'ICE' to a new column\n",
    "\n",
    "hypotheses['ICE'] = hypotheses['Impact'] * hypotheses['Confidence'] / hypotheses['Effort']\n",
    "\n",
    "## Print hypotheses by 'ICE'\n",
    "\n",
    "hypotheses[['Hypothesis', 'ICE']].sort_values(by='ICE', ascending=False)"
   ]
  },
  {
   "cell_type": "markdown",
   "metadata": {},
   "source": [
    "Hypothesis 8, 0 and 7 got the highest 'ICE' rate."
   ]
  },
  {
   "cell_type": "markdown",
   "metadata": {},
   "source": [
    "### 'RICE'\n",
    "'RICE' framework is calculated as: Reach* Impact * Confidence / Effort."
   ]
  },
  {
   "cell_type": "code",
   "execution_count": 20,
   "metadata": {},
   "outputs": [
    {
     "data": {
      "text/html": [
       "<div>\n",
       "<style scoped>\n",
       "    .dataframe tbody tr th:only-of-type {\n",
       "        vertical-align: middle;\n",
       "    }\n",
       "\n",
       "    .dataframe tbody tr th {\n",
       "        vertical-align: top;\n",
       "    }\n",
       "\n",
       "    .dataframe thead th {\n",
       "        text-align: right;\n",
       "    }\n",
       "</style>\n",
       "<table border=\"1\" class=\"dataframe\">\n",
       "  <thead>\n",
       "    <tr style=\"text-align: right;\">\n",
       "      <th></th>\n",
       "      <th>Hypothesis</th>\n",
       "      <th>RICE</th>\n",
       "    </tr>\n",
       "  </thead>\n",
       "  <tbody>\n",
       "    <tr>\n",
       "      <td>7</td>\n",
       "      <td>Add a subscription form to all the main pages....</td>\n",
       "      <td>112.0</td>\n",
       "    </tr>\n",
       "    <tr>\n",
       "      <td>2</td>\n",
       "      <td>Add product recommendation blocks to the store...</td>\n",
       "      <td>56.0</td>\n",
       "    </tr>\n",
       "    <tr>\n",
       "      <td>0</td>\n",
       "      <td>Add two new channels for attracting traffic. T...</td>\n",
       "      <td>40.0</td>\n",
       "    </tr>\n",
       "    <tr>\n",
       "      <td>6</td>\n",
       "      <td>Show banners with current offers and sales on ...</td>\n",
       "      <td>40.0</td>\n",
       "    </tr>\n",
       "    <tr>\n",
       "      <td>8</td>\n",
       "      <td>Launch a promotion that gives users discounts ...</td>\n",
       "      <td>16.2</td>\n",
       "    </tr>\n",
       "    <tr>\n",
       "      <td>3</td>\n",
       "      <td>Change the category structure. This will incre...</td>\n",
       "      <td>9.0</td>\n",
       "    </tr>\n",
       "    <tr>\n",
       "      <td>1</td>\n",
       "      <td>Launch your own delivery service. This will sh...</td>\n",
       "      <td>4.0</td>\n",
       "    </tr>\n",
       "    <tr>\n",
       "      <td>5</td>\n",
       "      <td>Add a customer review page. This will increase...</td>\n",
       "      <td>4.0</td>\n",
       "    </tr>\n",
       "    <tr>\n",
       "      <td>4</td>\n",
       "      <td>Change the background color on the main page. ...</td>\n",
       "      <td>3.0</td>\n",
       "    </tr>\n",
       "  </tbody>\n",
       "</table>\n",
       "</div>"
      ],
      "text/plain": [
       "                                          Hypothesis   RICE\n",
       "7  Add a subscription form to all the main pages....  112.0\n",
       "2  Add product recommendation blocks to the store...   56.0\n",
       "0  Add two new channels for attracting traffic. T...   40.0\n",
       "6  Show banners with current offers and sales on ...   40.0\n",
       "8  Launch a promotion that gives users discounts ...   16.2\n",
       "3  Change the category structure. This will incre...    9.0\n",
       "1  Launch your own delivery service. This will sh...    4.0\n",
       "5  Add a customer review page. This will increase...    4.0\n",
       "4  Change the background color on the main page. ...    3.0"
      ]
     },
     "execution_count": 20,
     "metadata": {},
     "output_type": "execute_result"
    }
   ],
   "source": [
    "## Calculate 'RICE' to a new column\n",
    "\n",
    "hypotheses['RICE'] = hypotheses['Reach'] * hypotheses['Impact'] * hypotheses['Confidence'] / hypotheses['Effort']\n",
    "\n",
    "## Print hypotheses by 'RICE'\n",
    "\n",
    "hypotheses[['Hypothesis', 'RICE']].sort_values(by='RICE', ascending=False)"
   ]
  },
  {
   "cell_type": "markdown",
   "metadata": {},
   "source": [
    "Hypothesis 7, 2 and 0 are the highest according to RICE framework (with 7 far from the rest)."
   ]
  },
  {
   "cell_type": "markdown",
   "metadata": {},
   "source": [
    "### Conclusions\n",
    "\n",
    "Hypotheses 7 and 0 were among the top 3 in both frameworks. However, two major changes occured. First, while the two hypotheses were close in 'ICE', hypothesis 7 got a much higher rate in 'RICE'.\n",
    "\n",
    "Also, hypothesis 8 was among the top 3 in 'ICE', but dropped in 'RICE'. Similar but opposite trend happened to hypothesis 2, which climbed to second place in 'RICE'.\n",
    "\n",
    "The reason must be differences in the 'Reach' attribute that was introduced in 'RICE'.\n",
    "\n",
    "Hypothesis 7 has a reach score of 10, while hypothesis 0 has only 3. This explains the large gap between them in 'RICE'. In a similar manner, hypothesis 8 has a reach score of 1, while hypothesis 2 has a reach of 8.\n",
    "\n",
    "If hypotheses need to be chosen, then hypotheses 7 and 0 would definitely be first, as they were among the top 3 in both frameworks. Hypotheses 2, 8 will be next, as they achieved high scores in at least one of the frameworks."
   ]
  },
  {
   "cell_type": "markdown",
   "metadata": {},
   "source": [
    "## A/B Test Analysis\n",
    "\n",
    "In this section, results of an A/B test will be analyzed using the data in `visits` and `orders`. The analysis will include the following steps:\n",
    "1. Setting up cumulative data.\n",
    "2. Revenue by group - Cumulative revenue by group.\n",
    "3. Average order size - Cumulative average order size by group and relative difference of the groups.\n",
    "4. Conversion rates by group.\n",
    "5. Anomalies examination - scatter plots and 95th+ percentiles calculations.\n",
    "6. Conclusions - mid-way conclusions.\n",
    "7. Statistical differences - Raw data.\n",
    "8. Statistical differences - Filtered data.\n",
    "9. Test conclusions - Can conclusions of the test be derived?"
   ]
  },
  {
   "cell_type": "markdown",
   "metadata": {},
   "source": [
    "### Setting up Cumulative Data\n",
    "\n",
    "In order to get the cumulative data, we need to make some calculations and create a new table that will store the cumulative values. We will use this table for all cumulative data. This table will include besides revenues, also the number of orders, visitors and visits. We will use it later. To do so, we need to follow these steps:\n",
    "1. Create an array with unique paired date-group values.\n",
    "2. Add the required cumulative data for each row using .apply method.\n",
    "\n",
    "First, we'll start by creating date-group array."
   ]
  },
  {
   "cell_type": "code",
   "execution_count": 21,
   "metadata": {},
   "outputs": [],
   "source": [
    "## create a paired date-group array\n",
    "\n",
    "datesGroups = orders[['date', 'group']].drop_duplicates()"
   ]
  },
  {
   "cell_type": "markdown",
   "metadata": {},
   "source": [
    "Now, for each row we will add the number that was accumulated to the respective date from `orders` table.\n",
    "- `transactionId` will give us the number of unique orders.\n",
    "- `visitorId` will give us the number of unique buyers.\n",
    "- `revenue` will give us the sum of revenues."
   ]
  },
  {
   "cell_type": "code",
   "execution_count": 22,
   "metadata": {},
   "outputs": [],
   "source": [
    "## Using apply to get cumulative data up to each row in `datesGroups`\n",
    "\n",
    "ordersAggregated  = (\n",
    "    datesGroups\n",
    "    .apply(lambda x:\n",
    "          orders[np.logical_and(\n",
    "          orders['date'] <= x['date'], orders['group'] == x['group'])]\n",
    "          .agg({'date': 'max', 'group': 'max',\n",
    "               'transactionId': pd.Series.nunique,\n",
    "               'visitorId': pd.Series.nunique,\n",
    "               'revenue': 'sum'}), axis=1\n",
    "          ).sort_values(by=['date', 'group'])\n",
    ")"
   ]
  },
  {
   "cell_type": "markdown",
   "metadata": {},
   "source": [
    "We will do the same thing for `visits`.\n",
    "- `visits` will give us the sum of visits."
   ]
  },
  {
   "cell_type": "code",
   "execution_count": 23,
   "metadata": {},
   "outputs": [],
   "source": [
    "## Doing the same as previous step, this time to `visits`\n",
    "\n",
    "visitsAggregated  = (\n",
    "    datesGroups\n",
    "    .apply(lambda x:\n",
    "          visits[np.logical_and(\n",
    "          visits['date'] <= x['date'], visits['group'] == x['group'])]\n",
    "          .agg({'date': 'max', 'group': 'max',\n",
    "               'visits': 'sum'}), axis=1\n",
    "          ).sort_values(by=['date', 'group'])\n",
    ")"
   ]
  },
  {
   "cell_type": "markdown",
   "metadata": {},
   "source": [
    "Now we will simply merge our two new tables, `ordersAggregated` and `visitsAggregated`."
   ]
  },
  {
   "cell_type": "code",
   "execution_count": 24,
   "metadata": {},
   "outputs": [],
   "source": [
    "## Merging the tow tables to one\n",
    "\n",
    "cumulativeData = ordersAggregated.merge(visitsAggregated, \n",
    "                                       on=['date', 'group'])\n",
    "\n",
    "## Rename columns\n",
    "\n",
    "cumulativeData.columns = ['date', 'group', 'orders', 'buyers', 'revenue', 'visits']\n"
   ]
  },
  {
   "cell_type": "markdown",
   "metadata": {},
   "source": [
    " Cumulative data is now stored in the table `cumulativeData`, and we can continue to the analysis.\n",
    " \n",
    " ### Revenue by Group\n",
    " \n",
    "Cumulative revenues will be drawn from `cumulativeData` column for each group, and plotted in a graph."
   ]
  },
  {
   "cell_type": "code",
   "execution_count": 25,
   "metadata": {},
   "outputs": [],
   "source": [
    "import sys\n",
    "import warnings\n",
    "if not sys.warnoptions:\n",
    "       warnings.simplefilter(\"ignore\")"
   ]
  },
  {
   "cell_type": "code",
   "execution_count": 26,
   "metadata": {},
   "outputs": [
    {
     "data": {
      "image/png": "[encoded data removed]",
      "text/plain": [
       "<Figure size 792x288 with 1 Axes>"
      ]
     },
     "metadata": {
      "needs_background": "light"
     },
     "output_type": "display_data"
    }
   ],
   "source": [
    "## Draw revenue data per date for each group\n",
    "\n",
    "cumulativeRevenueA = cumulativeData[cumulativeData['group']=='A'][['date', 'revenue']]\n",
    "cumulativeRevenueB = cumulativeData[cumulativeData['group']=='B'][['date', 'revenue']]\n",
    "\n",
    "## Plot revenue by group\n",
    "\n",
    "plt.figure(figsize=(11,4))\n",
    "plt.plot(cumulativeRevenueA['date'], cumulativeRevenueA['revenue'], label='A')\n",
    "plt.plot(cumulativeRevenueB['date'], cumulativeRevenueB['revenue'], label='B')\n",
    "\n",
    "plt.xticks(rotation=35)\n",
    "\n",
    "plt.title('Cumulative Revenue, Groups A and B');\n",
    "plt.xlabel('Date');\n",
    "plt.ylabel('Revenue');\n",
    "\n",
    "plt.legend();"
   ]
  },
  {
   "cell_type": "markdown",
   "metadata": {},
   "source": [
    "The graph shows that revenues are constantly rising, with revenues for group B higher than in A. We also see a spike in group B around the 17th, which could mean a surge in the number of orders or a very high order was places. This is possibly an outlier -we will check that later. \n",
    "\n",
    "We should also remember that group B has more visitors, and it probably contributed to the differences."
   ]
  },
  {
   "cell_type": "markdown",
   "metadata": {},
   "source": [
    "### Average Order Size\n",
    "\n",
    "Average order size will also use the cumulative data. We will use revenue over orders data to calculate the average."
   ]
  },
  {
   "cell_type": "code",
   "execution_count": 27,
   "metadata": {},
   "outputs": [
    {
     "data": {
      "image/png": "[encoded data removed]",
      "text/plain": [
       "<Figure size 792x288 with 1 Axes>"
      ]
     },
     "metadata": {
      "needs_background": "light"
     },
     "output_type": "display_data"
    }
   ],
   "source": [
    "## Draw revenue and orders data per date for each group\n",
    "\n",
    "cumulativeAvgOrderA = cumulativeData[cumulativeData['group']=='A'][['date', 'revenue', 'orders']]\n",
    "cumulativeAvgOrderB = cumulativeData[cumulativeData['group']=='B'][['date', 'revenue', 'orders']]\n",
    "\n",
    "## Plot average order size by group\n",
    "\n",
    "plt.figure(figsize=(11,4))\n",
    "plt.plot(cumulativeAvgOrderA['date'], cumulativeAvgOrderA['revenue']/cumulativeAvgOrderA['orders'], label='A')\n",
    "plt.plot(cumulativeAvgOrderB['date'], cumulativeAvgOrderB['revenue']/cumulativeAvgOrderB['orders'], label='B')\n",
    "\n",
    "plt.xticks(rotation=35)\n",
    "\n",
    "plt.title('Cumulative Average Order Size, Groups A and B');\n",
    "plt.xlabel('Date');\n",
    "plt.ylabel('Average Order Size');\n",
    "\n",
    "plt.legend();"
   ]
  },
  {
   "cell_type": "markdown",
   "metadata": {},
   "source": [
    "Avergae order size for group A stabilizes around 120. We can see the surge in group B's average order size that suggest a large order taken place there. We can also see that the average revenue for group B was dropping towards the end, possibly starting to stabilize.\n",
    "\n",
    "We will now plot the relative difference in average order size between the two groups. We will first merge average order size data of both groups, then plot the graph."
   ]
  },
  {
   "cell_type": "code",
   "execution_count": 28,
   "metadata": {},
   "outputs": [
    {
     "data": {
      "image/png": "[encoded data removed]",
      "text/plain": [
       "<Figure size 792x288 with 1 Axes>"
      ]
     },
     "metadata": {
      "needs_background": "light"
     },
     "output_type": "display_data"
    }
   ],
   "source": [
    "cumulativeAvgOrder = cumulativeAvgOrderA.merge(cumulativeAvgOrderB, on='date', suffixes=['A', 'B'])\n",
    "\n",
    "plt.figure(figsize=(11,4))\n",
    "plt.plot(cumulativeAvgOrder['date'], (cumulativeAvgOrder['revenueB']/cumulativeAvgOrder['ordersB'])/(cumulativeAvgOrder['revenueA']/cumulativeAvgOrder['ordersA'])-1)\n",
    "\n",
    "plt.xticks(rotation=35);\n",
    "\n",
    "plt.axhline(y=0, color='black', linestyle='--');\n",
    "plt.axhline(y=0.25, color='grey', linestyle='--');\n",
    "\n",
    "plt.title('Relative Difference of Cumulative Average Order Size, Group B over A');\n",
    "plt.xlabel('Date');\n",
    "plt.ylabel('Relative Difference');"
   ]
  },
  {
   "cell_type": "markdown",
   "metadata": {},
   "source": [
    "Spikes are visible here as well. Towards the end of the graph, the difference starts to stabilize with a minor decrease at 0.25. This means that the average order size of group B is 25% higher."
   ]
  },
  {
   "cell_type": "markdown",
   "metadata": {},
   "source": [
    "### Conversion Rate\n",
    "\n",
    "In this section, conversion rate will be calculated for each group and will be plotted in one graph. We will use the cumulative data of orders and visits to calculate it."
   ]
  },
  {
   "cell_type": "code",
   "execution_count": 29,
   "metadata": {},
   "outputs": [
    {
     "data": {
      "image/png": "[encoded data removed]",
      "text/plain": [
       "<Figure size 792x288 with 1 Axes>"
      ]
     },
     "metadata": {
      "needs_background": "light"
     },
     "output_type": "display_data"
    }
   ],
   "source": [
    "## Create a new column, `conversion`\n",
    "\n",
    "cumulativeData['conversion'] = cumulativeData['orders'] / cumulativeData['visits']\n",
    "\n",
    "## Get conversion rates of each group\n",
    "\n",
    "cumulativeConversionA = cumulativeData[cumulativeData['group']=='A'][['date', 'conversion']]\n",
    "cumulativeConversionB = cumulativeData[cumulativeData['group']=='B'][['date', 'conversion']]\n",
    "\n",
    "## Plot conversion data\n",
    "\n",
    "plt.figure(figsize=(11,4))\n",
    "plt.plot(cumulativeConversionA['date'], cumulativeConversionA['conversion'], label='A')\n",
    "plt.plot(cumulativeConversionB['date'], cumulativeConversionB['conversion'], label='B')\n",
    "\n",
    "plt.xticks(rotation=35)\n",
    "\n",
    "plt.title('Cumulative Conversion Rate, Groups A and B');\n",
    "plt.xlabel('Date');\n",
    "plt.ylabel('Conversion Rate');\n",
    "\n",
    "plt.legend();\n",
    "\n",
    "plt.axis(['2019-08-01', '2019-09-01', 0.01, 0.05]);"
   ]
  },
  {
   "cell_type": "markdown",
   "metadata": {},
   "source": [
    "Conversion rates seem to have been stablized with a 0.5% higher rate for group B."
   ]
  },
  {
   "cell_type": "code",
   "execution_count": 30,
   "metadata": {},
   "outputs": [
    {
     "data": {
      "image/png": "[encoded data removed]",
      "text/plain": [
       "<Figure size 792x288 with 1 Axes>"
      ]
     },
     "metadata": {
      "needs_background": "light"
     },
     "output_type": "display_data"
    }
   ],
   "source": [
    "## Merge cumulative conversion rates\n",
    "\n",
    "cumulConversion = pd.merge(cumulativeConversionA, cumulativeConversionB, on='date', suffixes=['A', 'B'])\n",
    "\n",
    "## Plot relational difference for conversion rates\n",
    "\n",
    "plt.figure(figsize=(11,4))\n",
    "plt.plot(cumulConversion['date'], cumulConversion['conversionB']/cumulConversion['conversionA']-1)\n",
    "\n",
    "plt.xticks(rotation=35)\n",
    "\n",
    "plt.title('Relational Difference in Conversion Rate, Group B Over A');\n",
    "plt.xlabel('Date');\n",
    "plt.ylabel('Conversion Rate');\n",
    "\n",
    "plt.axhline(y=0, color='black', linestyle='--');\n",
    "plt.axhline(y=0.15, color='grey', linestyle='--');"
   ]
  },
  {
   "cell_type": "markdown",
   "metadata": {},
   "source": [
    "Relational difference in conversion rate is currently almost 15% higher in group B and rising."
   ]
  },
  {
   "cell_type": "markdown",
   "metadata": {},
   "source": [
    "### Anomalies Examination\n",
    "\n",
    "In this section, we will start exploring anomalies in the data. We will explore two parameters: number of orders per user and order prices. This will be done by creating scatter plot and calculating the 95th and 99th percentiles.\n",
    "\n",
    "**Number of Orders per User**\n",
    "\n",
    "We will start with number of orders per user:\n",
    "- Scatter plot of orders per user.\n",
    "- 95th and 99th percentiles.\n",
    "\n",
    "First, we will need to calculate the number of orders for each user."
   ]
  },
  {
   "cell_type": "code",
   "execution_count": 31,
   "metadata": {},
   "outputs": [
    {
     "data": {
      "image/png": "[encoded data removed]",
      "text/plain": [
       "<Figure size 432x288 with 1 Axes>"
      ]
     },
     "metadata": {
      "needs_background": "light"
     },
     "output_type": "display_data"
    }
   ],
   "source": [
    "## Get number of orders for each user\n",
    "\n",
    "orders_per_user = orders.groupby('visitorId').agg({'transactionId': 'count'}).reset_index()\n",
    "orders_per_user.columns = ['visitorId', 'orders']\n",
    "## Get a range for the x axis\n",
    "\n",
    "n_orders_x_values = pd.Series(range(0, len(orders_per_user)))\n",
    "\n",
    "## Plot a scatter plot for orders per user\n",
    "\n",
    "plt.scatter(n_orders_x_values, orders_per_user['orders']);\n",
    "plt.title('Orders Per User Scatter Plot')\n",
    "plt.xlabel('X values range')\n",
    "plt.ylabel('Orders Per User');"
   ]
  },
  {
   "cell_type": "markdown",
   "metadata": {},
   "source": [
    "Most frequently, each user has only 1-2 orders. Significantly smaller portion has 3 to 5 orders. There are also some users with more than 8 orders. \n",
    "\n",
    "Let's now calculate the 95th and 99th percentiles of the number of orders per user."
   ]
  },
  {
   "cell_type": "code",
   "execution_count": 32,
   "metadata": {},
   "outputs": [
    {
     "name": "stdout",
     "output_type": "stream",
     "text": [
      "95th Percentile for orders per user: 1.0\n",
      "99th Percentile for orders per user: 2.0\n"
     ]
    }
   ],
   "source": [
    "## Calculate and print percentiles\n",
    "\n",
    "order_per_user_centiles = np.percentile(orders_per_user['orders'], [95, 99])\n",
    "\n",
    "print('95th Percentile for orders per user: {}'\n",
    "     .format(order_per_user_centiles[0]))\n",
    "print('99th Percentile for orders per user: {}'\n",
    "     .format(order_per_user_centiles[1]))"
   ]
  },
  {
   "cell_type": "markdown",
   "metadata": {},
   "source": [
    "95% of the users have a maximum of 2 orders, and 99% of the users has up to 4 orders. We can say that more than 2 orders per user becomes an anomaly."
   ]
  },
  {
   "cell_type": "markdown",
   "metadata": {},
   "source": [
    "**Order Prices**\n",
    "\n",
    "We will go through the same process for order prices. "
   ]
  },
  {
   "cell_type": "code",
   "execution_count": 33,
   "metadata": {},
   "outputs": [
    {
     "data": {
      "image/png": "[encoded data removed]",
      "text/plain": [
       "<Figure size 432x288 with 1 Axes>"
      ]
     },
     "metadata": {
      "needs_background": "light"
     },
     "output_type": "display_data"
    }
   ],
   "source": [
    "## Get order prices\n",
    "\n",
    "order_prices = orders['revenue']\n",
    "\n",
    "## Get a range for the x axis\n",
    "\n",
    "order_prices_x_values = pd.Series(range(0, len(order_prices)))\n",
    "\n",
    "## Plot a scatter plot for order prices\n",
    "\n",
    "plt.scatter(order_prices_x_values, order_prices);\n",
    "plt.title('Order Prices Scatter Plot')\n",
    "plt.xlabel('X values range')\n",
    "plt.ylabel('Order Price');"
   ]
  },
  {
   "cell_type": "markdown",
   "metadata": {},
   "source": [
    "Seems like most orders had a price of not more than 1,500. However, there's one order with a price of 2,500 and another one at 20,000, much higher than the rest of the orders.\n",
    "\n",
    "Let's calculate the percentiles."
   ]
  },
  {
   "cell_type": "code",
   "execution_count": 34,
   "metadata": {},
   "outputs": [
    {
     "name": "stdout",
     "output_type": "stream",
     "text": [
      "95th Percentile for order price: 414.275\n",
      "99th Percentile for order price: 830.3\n"
     ]
    }
   ],
   "source": [
    "## Calculate and print percentiles\n",
    "\n",
    "orders_price_centiles = np.percentile(order_prices, [95, 99])\n",
    "\n",
    "print('95th Percentile for order price: {}'\n",
    "     .format(orders_price_centiles[0]))\n",
    "print('99th Percentile for order price: {}'\n",
    "     .format(orders_price_centiles[1]))"
   ]
  },
  {
   "cell_type": "markdown",
   "metadata": {},
   "source": [
    "95% of the orders are less than 435. 99% of it is less than 900. It's seem safe to use here as well the 95% percentile as our border for anomalies. Not many orders seem to be higher than 500. "
   ]
  },
  {
   "cell_type": "markdown",
   "metadata": {},
   "source": [
    "### Conclusions\n",
    "\n",
    "The A/B tests results so far shows that the revenue of both groups growing constantly. Revenue in group B was higher, possibly as a result of outliers. \n",
    "\n",
    "Average order size had a lot of flunctuations and stabilized with an advantage for group B that was higher by 25%. Here as well, data is probably affected by outliers. \n",
    "\n",
    "Conversion rate for group B stabilized at 3.5%, higher by 0.5% than conversion rate in group A.\n",
    "\n",
    "Anomaly data limits were also set. 95% of the users had no more than 2 orders, while 95% of the orders were 435 and below. Data higher than that will be considered an anomaly."
   ]
  },
  {
   "cell_type": "markdown",
   "metadata": {},
   "source": [
    "### Statistical Differences - Raw Data\n",
    "\n",
    "Now, let's calculate the statistical significace of the difference between the groups. We will do that for conversion and average order size. In this section, **raw data** will be used."
   ]
  },
  {
   "cell_type": "markdown",
   "metadata": {},
   "source": [
    "#### Conversion Rate\n",
    "\n",
    "Let's calculate the statistical significance of conversion rate using the raw data.\n",
    "\n",
    "First, we need to prepare the data for the statistical test. We will create a dataset with user Ids and their number of orders. The mean of this group is also the conversion rate (sum of orders / number of users)."
   ]
  },
  {
   "cell_type": "code",
   "execution_count": 35,
   "metadata": {},
   "outputs": [],
   "source": [
    "## Create datasets with users and their number of orders\n",
    "\n",
    "ordersByUsersA = (\n",
    "    orders[orders['group']=='A']\n",
    "    .groupby('visitorId', as_index=False)\n",
    "    .agg({'transactionId': pd.Series.nunique})\n",
    ")\n",
    "ordersByUsersA.columns = ['visitorId', 'orders']\n",
    "\n",
    "ordersByUsersB = (\n",
    "    orders[orders['group']=='B']\n",
    "    .groupby('visitorId', as_index=False)\n",
    "    .agg({'transactionId': pd.Series.nunique})\n",
    ")\n",
    "ordersByUsersB.columns = ['visitorId', 'orders']"
   ]
  },
  {
   "cell_type": "markdown",
   "metadata": {},
   "source": [
    "The tables we just created will only show users who placed an order. However, to calculate the conversion, we also need to count users who placed 0 orders. We will create a series with zero values for the users who didn't place an order."
   ]
  },
  {
   "cell_type": "code",
   "execution_count": 36,
   "metadata": {},
   "outputs": [],
   "source": [
    "## Create a series for users who didn't place an order. Set value 0\n",
    "\n",
    "zeroOrdersA = pd.Series(0,\n",
    "                        index=np.arange(visits[visits['group']=='A']['visits'].sum() - len(ordersByUsersA)),\n",
    "                        name='orders')\n",
    "zeroOrdersB = pd.Series(0,\n",
    "                        index=np.arange(visits[visits['group']=='B']['visits'].sum() - len(ordersByUsersB)),\n",
    "                        name='orders')"
   ]
  },
  {
   "cell_type": "markdown",
   "metadata": {},
   "source": [
    "Now we just need to concat the 4 serieses to 2, one for each group."
   ]
  },
  {
   "cell_type": "code",
   "execution_count": 37,
   "metadata": {},
   "outputs": [],
   "source": [
    "## Concat the serieses\n",
    "\n",
    "sampleA = pd.concat([ordersByUsersA['orders'], zeroOrdersA], axis=0)\n",
    "\n",
    "sampleB = pd.concat([ordersByUsersB['orders'], zeroOrdersB], axis=0)"
   ]
  },
  {
   "cell_type": "markdown",
   "metadata": {},
   "source": [
    "We're ready to calculate the statistical significance.\n",
    "\n",
    "Our null hypothesis is that conversion rate in group A and group B are equal. The alternative hypothesis is that conversion rate for the two groups is different. "
   ]
  },
  {
   "cell_type": "code",
   "execution_count": 38,
   "metadata": {},
   "outputs": [
    {
     "name": "stdout",
     "output_type": "stream",
     "text": [
      "P-value: 0.006.\n",
      "Conversion rate Difference: 0.160.\n"
     ]
    }
   ],
   "source": [
    "## Calculate statistical significance of conversion rate\n",
    "\n",
    "print('P-value: {0:.3f}.'.format(stats.mannwhitneyu(sampleA, sampleB)[1]))\n",
    "\n",
    "print('Conversion rate Difference: {0:.3f}.'.format(sampleB.mean()/sampleA.mean()-1))"
   ]
  },
  {
   "cell_type": "markdown",
   "metadata": {},
   "source": [
    "P-value is smaller than 0.05 - we can reject the null hypothesis. This means that the difference of conversion rate between the two groups is statistically significant. \n",
    "\n",
    "Conversion rate for group B is higher by 13.8%. "
   ]
  },
  {
   "cell_type": "markdown",
   "metadata": {},
   "source": [
    "#### Average Order Size\n",
    "\n",
    "Let's do the same process now for average order size.\n",
    "\n",
    "Our null hypothesis is that the average order size is the same in group A and group B. \n",
    "The alternative hypothesis is that the groups' average order size is different."
   ]
  },
  {
   "cell_type": "code",
   "execution_count": 39,
   "metadata": {},
   "outputs": [
    {
     "name": "stdout",
     "output_type": "stream",
     "text": [
      "P-value: 0.431\n",
      "Average Order Size Difference: 0.278\n"
     ]
    }
   ],
   "source": [
    "## Calculate statistical significance of average order size\n",
    "\n",
    "print('P-value: {0:.3f}'.format(stats.mannwhitneyu(orders[orders['group']=='A']['revenue'], orders[orders['group']=='B']['revenue'])[1]))\n",
    "\n",
    "print('Average Order Size Difference: {0:.3f}'.format(orders[orders['group']=='B']['revenue'].mean()/orders[orders['group']=='A']['revenue'].mean()-1))"
   ]
  },
  {
   "cell_type": "markdown",
   "metadata": {},
   "source": [
    "P-value is higher than 0.05 - so there is no reason to conclude that there's a difference in average order size between the groups. Still, average order size is higher in group B by 25%. "
   ]
  },
  {
   "cell_type": "markdown",
   "metadata": {},
   "source": [
    "#### Conclusions\n",
    "\n",
    "Raw data shows that there is a difference in conversion rates of the two groups, with conversion rate **higher by 13.8% in group B**.\n",
    "\n",
    "In average order size, however, there's no statistical significance of a difference between the groups. Even so, relational difference was 25% in favor of group B."
   ]
  },
  {
   "cell_type": "markdown",
   "metadata": {},
   "source": [
    "### Statistical Differences - Filtered Data\n",
    "\n",
    "In this section, we will calculate the statistical significance of the difference between group A and B using the filtered data, after removing anomalies. Here as well, conversion rate and average order size will be calculated."
   ]
  },
  {
   "cell_type": "markdown",
   "metadata": {},
   "source": [
    "#### Anomalies Removal\n",
    "\n",
    "First, we'll gather all anomalies together, so they could be easily excluded. In a previous sections we set the border over which data can be defined as anomaly:\n",
    "- Users with more than 2 orders.\n",
    "- Orders of more than 435.\n",
    "\n",
    "We will gather the visitorId of users who answer these conditios."
   ]
  },
  {
   "cell_type": "code",
   "execution_count": 40,
   "metadata": {
    "code_folding": []
   },
   "outputs": [
    {
     "name": "stdout",
     "output_type": "stream",
     "text": [
      "Number of abnormal Users to be excluded: 56.\n"
     ]
    }
   ],
   "source": [
    "## Get visitorId of anomalies (users with more than 2 orders, orders higher than 435)\n",
    "\n",
    "manyOrders = pd.concat([\n",
    "    ordersByUsersA[ordersByUsersA['orders']>2]['visitorId'],\n",
    "    ordersByUsersB[ordersByUsersB['orders']>2]['visitorId']\n",
    "    ], axis=0)\n",
    "\n",
    "expensiveOrders = orders[orders['revenue']>435]['visitorId']\n",
    "\n",
    "## Group all abnormal users into one series\n",
    "\n",
    "abnormalUsers = pd.concat([manyOrders, expensiveOrders],\n",
    "                         axis=0).drop_duplicates().sort_values()\n",
    "\n",
    "## Print overall count of abnormal users\n",
    "\n",
    "print('Number of abnormal Users to be excluded: {}.'.format(abnormalUsers.shape[0]))"
   ]
  },
  {
   "cell_type": "markdown",
   "metadata": {},
   "source": [
    "75 users are abnormal by our definitions and will be filtered out in this section. We'll now create two filtered samples."
   ]
  },
  {
   "cell_type": "code",
   "execution_count": 41,
   "metadata": {},
   "outputs": [],
   "source": [
    "## Create filtered samples\n",
    "\n",
    "sampleAFiltered = (\n",
    "    pd.concat(\n",
    "    [\n",
    "        ordersByUsersA[np.logical_not(ordersByUsersA['visitorId']\n",
    "                      .isin(abnormalUsers))]['orders'],\n",
    "        pd.Series(0,\n",
    "                  index=np.arange(visits[visits['group']=='A']['visits'].sum() - len(ordersByUsersA['orders'])),\n",
    "                  name='orders')], axis=0)\n",
    ")\n",
    "\n",
    "sampleBFiltered = (\n",
    "    pd.concat(\n",
    "    [\n",
    "        ordersByUsersB[np.logical_not(ordersByUsersB['visitorId']\n",
    "                      .isin(abnormalUsers))]['orders'],\n",
    "        pd.Series(0,\n",
    "                  index=np.arange(visits[visits['group']=='B']['visits'].sum() - len(ordersByUsersB['orders'])),\n",
    "                  name='orders')], axis=0)\n",
    ")"
   ]
  },
  {
   "cell_type": "markdown",
   "metadata": {},
   "source": [
    "#### Conversion Rate\n",
    "\n",
    "We will now use the filtered samples to calculate the statistical significance of the difference in conversion rates between the groups.\n",
    "\n",
    "Our null hypothesis says that conversion rate is equal in group A and group B.\n",
    "Alternative hypothesis is that the conversion rate is different in the two groups."
   ]
  },
  {
   "cell_type": "code",
   "execution_count": 42,
   "metadata": {},
   "outputs": [
    {
     "name": "stdout",
     "output_type": "stream",
     "text": [
      "P-Value: 0.005.\n",
      "Difference in conversion rate: 0.186.\n"
     ]
    }
   ],
   "source": [
    "## Calculate statistical significance and relational difference\n",
    "\n",
    "print('P-Value: {0:.3f}.'.format(stats.mannwhitneyu(sampleAFiltered, \n",
    "                                        sampleBFiltered)[1]))\n",
    "print('Difference in conversion rate: {0:.3f}.'.format(sampleBFiltered.mean()/sampleAFiltered.mean()-1))"
   ]
  },
  {
   "cell_type": "markdown",
   "metadata": {},
   "source": [
    "P-value is lower than 0.05, which means that the two groups' conversion rates are different. Group B has a conversion rate higher by 17%.\n",
    "\n",
    "P-value almost did not change after removing the abnormal users, and still shows a difference between the groups. However, the difference between the groups is now 4% larger, with 17% now compared to 13% before."
   ]
  },
  {
   "cell_type": "markdown",
   "metadata": {},
   "source": [
    "#### Average Order Size\n",
    "\n",
    "Let's now check the statistical significance of the difference in average orders size for the filtered data.\n",
    "\n",
    "The null hypothesis is that average order size is equal in both groups. The alternative hypothesis says that the average order size is different in group A and group B."
   ]
  },
  {
   "cell_type": "code",
   "execution_count": 43,
   "metadata": {},
   "outputs": [
    {
     "name": "stdout",
     "output_type": "stream",
     "text": [
      "P-Value: 0.379\n",
      "Difference in average order size: -0.031\n"
     ]
    }
   ],
   "source": [
    "## Get revenue of the filtered data\n",
    "\n",
    "revenueAFiltered = (\n",
    "    orders[np.logical_and(\n",
    "            orders['group']=='A',\n",
    "            np.logical_not(orders['visitorId']\n",
    "                           .isin(abnormalUsers)))]['revenue']\n",
    ")\n",
    "\n",
    "revenueBFiltered = (\n",
    "    orders[np.logical_and(\n",
    "            orders['group']=='B',\n",
    "            np.logical_not(orders['visitorId']\n",
    "                           .isin(abnormalUsers)))]['revenue']\n",
    ")\n",
    "\n",
    "## Calculate statistical significance and relational difference\n",
    "\n",
    "print('P-Value: {0:.3f}'.format(stats.mannwhitneyu(revenueAFiltered, revenueBFiltered)[1]))\n",
    "print('Difference in average order size: {0:.3f}'.format(revenueBFiltered.mean()/revenueAFiltered.mean()-1))"
   ]
  },
  {
   "cell_type": "markdown",
   "metadata": {},
   "source": [
    "P-value is higher than 0.05. We cannot rule out the possibility that the average order size is the same. The average order size was higher by 2.7% in group A.\n",
    "\n",
    "P-value didn't change much after removing abnormal users, but the difference between the groups now changed: Group A has a slightly higher average."
   ]
  },
  {
   "cell_type": "markdown",
   "metadata": {},
   "source": [
    "#### Conclusions\n",
    "\n",
    "75 users were classified as anomalies and exlucded from the filtered data. \n",
    "\n",
    "Statistical significance test showed once again that conversion rate is different between the group. In the filtered data, conversion rate in group B was higher by 17%, an even bigger gap than in the raw data.\n",
    "\n",
    "Average order size again showed no difference between the groups in the statistical test. However, In the filtered data the average order size was actually higher in group A by 2.7%."
   ]
  },
  {
   "cell_type": "markdown",
   "metadata": {},
   "source": [
    "### Test Conclusions\n",
    "\n",
    "In this section, A/B tests results will be concluded. We will also take a decision based on the result to see if the test needs to continue or concluded."
   ]
  },
  {
   "cell_type": "markdown",
   "metadata": {},
   "source": [
    "**Revenue** - Revenue in both groups rose constantly, with group B having higher revenues.\n",
    "\n",
    "**Average order size** - Raw data shows a higher average order size in group B by 25%. However, statistical significance test showed that there was no difference between the groups in terms of average order size.\n",
    "\n",
    "Testing statistical significance using the filtered data showed once again no difference between the groups. However, average order size in the filtered data was higher this time in **group A** by 2.7%. \n",
    "\n",
    "**Conversion rate** - In raw data, conversion rate stablized at 3.5% in group B compared to only 3% in group A. Statistical significance test also showed a difference between the groups and a relational difference of 13.8%.\n",
    "\n",
    "Filtered data had no change in the statistical test results, but a higher difference of 17% between the groups."
   ]
  },
  {
   "cell_type": "markdown",
   "metadata": {},
   "source": [
    "**Summary**\n",
    "\n",
    "1. There's no statistically significant difference between the groups in terms of average order size, and it seems to have stabilized.\n",
    "2. There's a statistically significant difference between the groups in terms of conversion rates. Conversion rate is higher by 13-17% in **group B**, and the gap seems to get larger.\n",
    "\n",
    "**Decision:** Since there's no difference in average order size, and conversion rate is much higher in group B, **we can stop the test and consider group B as the leader**. "
   ]
  }
 ],
 "metadata": {
  "ExecuteTimeLog": [
   {
    "duration": 955,
    "start_time": "2021-08-14T19:55:44.290Z"
   },
   {
    "duration": 543,
    "start_time": "2021-08-14T19:55:45.247Z"
   },
   {
    "duration": 14,
    "start_time": "2021-08-14T19:55:45.792Z"
   },
   {
    "duration": 12,
    "start_time": "2021-08-14T19:55:45.808Z"
   },
   {
    "duration": 4,
    "start_time": "2021-08-14T19:55:45.821Z"
   },
   {
    "duration": 11,
    "start_time": "2021-08-14T19:55:45.826Z"
   },
   {
    "duration": 14,
    "start_time": "2021-08-14T19:55:45.839Z"
   },
   {
    "duration": 12,
    "start_time": "2021-08-14T19:55:45.855Z"
   },
   {
    "duration": 5,
    "start_time": "2021-08-14T19:55:45.869Z"
   },
   {
    "duration": 18,
    "start_time": "2021-08-14T19:55:45.876Z"
   },
   {
    "duration": 8,
    "start_time": "2021-08-14T19:55:45.895Z"
   },
   {
    "duration": 8,
    "start_time": "2021-08-14T19:55:45.904Z"
   },
   {
    "duration": 11,
    "start_time": "2021-08-14T19:55:45.941Z"
   },
   {
    "duration": 16,
    "start_time": "2021-08-14T19:55:45.953Z"
   },
   {
    "duration": 13,
    "start_time": "2021-08-14T19:55:45.971Z"
   },
   {
    "duration": 17,
    "start_time": "2021-08-14T19:55:45.986Z"
   },
   {
    "duration": 20,
    "start_time": "2021-08-14T19:55:46.004Z"
   },
   {
    "duration": 21,
    "start_time": "2021-08-14T19:55:46.025Z"
   },
   {
    "duration": 17,
    "start_time": "2021-08-14T19:55:46.048Z"
   },
   {
    "duration": 8,
    "start_time": "2021-08-14T19:55:46.067Z"
   },
   {
    "duration": 202,
    "start_time": "2021-08-14T19:55:46.076Z"
   },
   {
    "duration": 149,
    "start_time": "2021-08-14T19:55:46.279Z"
   },
   {
    "duration": 14,
    "start_time": "2021-08-14T19:55:46.431Z"
   },
   {
    "duration": 226,
    "start_time": "2021-08-14T19:55:46.447Z"
   },
   {
    "duration": 220,
    "start_time": "2021-08-14T19:55:46.675Z"
   },
   {
    "duration": 315,
    "start_time": "2021-08-14T19:55:46.896Z"
   },
   {
    "duration": 218,
    "start_time": "2021-08-14T19:55:47.213Z"
   },
   {
    "duration": 322,
    "start_time": "2021-08-14T19:55:47.432Z"
   },
   {
    "duration": 277,
    "start_time": "2021-08-14T19:55:47.756Z"
   },
   {
    "duration": 9,
    "start_time": "2021-08-14T19:55:48.035Z"
   },
   {
    "duration": 313,
    "start_time": "2021-08-14T19:55:48.046Z"
   },
   {
    "duration": 4,
    "start_time": "2021-08-14T19:55:48.361Z"
   },
   {
    "duration": 115,
    "start_time": "2021-08-14T19:55:48.367Z"
   },
   {
    "duration": 6,
    "start_time": "2021-08-14T19:55:48.484Z"
   },
   {
    "duration": 9,
    "start_time": "2021-08-14T19:55:48.491Z"
   },
   {
    "duration": 12,
    "start_time": "2021-08-14T19:55:48.502Z"
   },
   {
    "duration": 9,
    "start_time": "2021-08-14T19:55:48.516Z"
   },
   {
    "duration": 9,
    "start_time": "2021-08-14T19:55:48.541Z"
   },
   {
    "duration": 11,
    "start_time": "2021-08-14T19:55:48.551Z"
   },
   {
    "duration": 10,
    "start_time": "2021-08-14T19:55:48.563Z"
   },
   {
    "duration": 10,
    "start_time": "2021-08-14T19:55:48.575Z"
   },
   {
    "duration": 1017,
    "start_time": "2021-08-15T11:37:22.686Z"
   },
   {
    "duration": 454,
    "start_time": "2021-08-15T11:37:23.705Z"
   },
   {
    "duration": 16,
    "start_time": "2021-08-15T11:37:24.161Z"
   },
   {
    "duration": 25,
    "start_time": "2021-08-15T11:37:24.179Z"
   },
   {
    "duration": 3,
    "start_time": "2021-08-15T11:37:24.206Z"
   },
   {
    "duration": 31,
    "start_time": "2021-08-15T11:37:24.211Z"
   },
   {
    "duration": 26,
    "start_time": "2021-08-15T11:37:24.244Z"
   },
   {
    "duration": 27,
    "start_time": "2021-08-15T11:37:24.272Z"
   },
   {
    "duration": 12,
    "start_time": "2021-08-15T11:37:24.301Z"
   },
   {
    "duration": 33,
    "start_time": "2021-08-15T11:37:24.315Z"
   },
   {
    "duration": 20,
    "start_time": "2021-08-15T11:37:24.350Z"
   },
   {
    "duration": 22,
    "start_time": "2021-08-15T11:37:24.371Z"
   },
   {
    "duration": 36,
    "start_time": "2021-08-15T11:37:24.395Z"
   },
   {
    "duration": 25,
    "start_time": "2021-08-15T11:37:24.433Z"
   },
   {
    "duration": 16,
    "start_time": "2021-08-15T11:37:24.460Z"
   },
   {
    "duration": 25,
    "start_time": "2021-08-15T11:37:24.478Z"
   },
   {
    "duration": 23,
    "start_time": "2021-08-15T11:37:24.505Z"
   },
   {
    "duration": 23,
    "start_time": "2021-08-15T11:37:24.530Z"
   },
   {
    "duration": 30,
    "start_time": "2021-08-15T11:37:24.555Z"
   },
   {
    "duration": 26,
    "start_time": "2021-08-15T11:37:24.586Z"
   },
   {
    "duration": 210,
    "start_time": "2021-08-15T11:37:24.614Z"
   },
   {
    "duration": 158,
    "start_time": "2021-08-15T11:37:24.826Z"
   },
   {
    "duration": 6,
    "start_time": "2021-08-15T11:37:24.988Z"
   },
   {
    "duration": 267,
    "start_time": "2021-08-15T11:37:24.996Z"
   },
   {
    "duration": 258,
    "start_time": "2021-08-15T11:37:25.265Z"
   },
   {
    "duration": 318,
    "start_time": "2021-08-15T11:37:25.525Z"
   },
   {
    "duration": 267,
    "start_time": "2021-08-15T11:37:25.845Z"
   },
   {
    "duration": 322,
    "start_time": "2021-08-15T11:37:26.114Z"
   },
   {
    "duration": 288,
    "start_time": "2021-08-15T11:37:26.437Z"
   },
   {
    "duration": 4,
    "start_time": "2021-08-15T11:37:26.727Z"
   },
   {
    "duration": 328,
    "start_time": "2021-08-15T11:37:26.732Z"
   },
   {
    "duration": 4,
    "start_time": "2021-08-15T11:37:27.062Z"
   },
   {
    "duration": 126,
    "start_time": "2021-08-15T11:37:27.067Z"
   },
   {
    "duration": 7,
    "start_time": "2021-08-15T11:37:27.195Z"
   },
   {
    "duration": 23,
    "start_time": "2021-08-15T11:37:27.203Z"
   },
   {
    "duration": 17,
    "start_time": "2021-08-15T11:37:27.228Z"
   },
   {
    "duration": 24,
    "start_time": "2021-08-15T11:37:27.247Z"
   },
   {
    "duration": 24,
    "start_time": "2021-08-15T11:37:27.273Z"
   },
   {
    "duration": 23,
    "start_time": "2021-08-15T11:37:27.298Z"
   },
   {
    "duration": 26,
    "start_time": "2021-08-15T11:37:27.323Z"
   },
   {
    "duration": 30,
    "start_time": "2021-08-15T11:37:27.350Z"
   },
   {
    "duration": 3,
    "start_time": "2021-08-15T12:02:23.749Z"
   },
   {
    "duration": 246,
    "start_time": "2021-08-15T12:02:24.517Z"
   },
   {
    "duration": 447,
    "start_time": "2021-08-16T07:38:00.991Z"
   },
   {
    "duration": 1317,
    "start_time": "2021-08-16T07:38:16.647Z"
   },
   {
    "duration": 828,
    "start_time": "2021-08-16T07:38:17.967Z"
   },
   {
    "duration": 25,
    "start_time": "2021-08-16T07:38:18.798Z"
   },
   {
    "duration": 17,
    "start_time": "2021-08-16T07:38:18.826Z"
   },
   {
    "duration": 6,
    "start_time": "2021-08-16T07:38:18.845Z"
   },
   {
    "duration": 61,
    "start_time": "2021-08-16T07:38:18.853Z"
   },
   {
    "duration": 20,
    "start_time": "2021-08-16T07:38:18.917Z"
   },
   {
    "duration": 17,
    "start_time": "2021-08-16T07:38:18.940Z"
   },
   {
    "duration": 9,
    "start_time": "2021-08-16T07:38:18.960Z"
   },
   {
    "duration": 56,
    "start_time": "2021-08-16T07:38:18.971Z"
   },
   {
    "duration": 11,
    "start_time": "2021-08-16T07:38:19.030Z"
   },
   {
    "duration": 10,
    "start_time": "2021-08-16T07:38:19.043Z"
   },
   {
    "duration": 54,
    "start_time": "2021-08-16T07:38:19.055Z"
   },
   {
    "duration": 14,
    "start_time": "2021-08-16T07:38:19.112Z"
   },
   {
    "duration": 8,
    "start_time": "2021-08-16T07:38:19.128Z"
   },
   {
    "duration": 15,
    "start_time": "2021-08-16T07:38:19.138Z"
   },
   {
    "duration": 8,
    "start_time": "2021-08-16T07:38:20.155Z"
   },
   {
    "duration": 499,
    "start_time": "2021-08-16T07:39:14.712Z"
   },
   {
    "duration": 10,
    "start_time": "2021-08-16T07:39:38.407Z"
   },
   {
    "duration": 13,
    "start_time": "2021-08-16T07:39:55.763Z"
   },
   {
    "duration": 9,
    "start_time": "2021-08-16T07:40:17.581Z"
   },
   {
    "duration": 1360,
    "start_time": "2021-08-16T07:46:25.273Z"
   },
   {
    "duration": 792,
    "start_time": "2021-08-16T07:46:26.636Z"
   },
   {
    "duration": 21,
    "start_time": "2021-08-16T07:46:27.431Z"
   },
   {
    "duration": 23,
    "start_time": "2021-08-16T07:46:27.455Z"
   },
   {
    "duration": 9,
    "start_time": "2021-08-16T07:46:27.480Z"
   },
   {
    "duration": 27,
    "start_time": "2021-08-16T07:46:27.491Z"
   },
   {
    "duration": 22,
    "start_time": "2021-08-16T07:46:27.521Z"
   },
   {
    "duration": 29,
    "start_time": "2021-08-16T07:46:27.547Z"
   },
   {
    "duration": 25,
    "start_time": "2021-08-16T07:46:27.579Z"
   },
   {
    "duration": 41,
    "start_time": "2021-08-16T07:46:27.608Z"
   },
   {
    "duration": 36,
    "start_time": "2021-08-16T07:46:27.652Z"
   },
   {
    "duration": 42,
    "start_time": "2021-08-16T07:46:27.691Z"
   },
   {
    "duration": 21,
    "start_time": "2021-08-16T07:46:27.737Z"
   },
   {
    "duration": 18,
    "start_time": "2021-08-16T07:46:27.761Z"
   },
   {
    "duration": 32,
    "start_time": "2021-08-16T07:46:27.782Z"
   },
   {
    "duration": 16,
    "start_time": "2021-08-16T07:46:27.817Z"
   },
   {
    "duration": 23,
    "start_time": "2021-08-16T07:46:27.836Z"
   },
   {
    "duration": 23,
    "start_time": "2021-08-16T07:46:27.862Z"
   },
   {
    "duration": 30,
    "start_time": "2021-08-16T07:46:27.888Z"
   },
   {
    "duration": 22,
    "start_time": "2021-08-16T07:46:27.921Z"
   },
   {
    "duration": 13,
    "start_time": "2021-08-16T07:46:27.945Z"
   },
   {
    "duration": 398,
    "start_time": "2021-08-16T07:46:27.961Z"
   },
   {
    "duration": 305,
    "start_time": "2021-08-16T07:46:28.365Z"
   },
   {
    "duration": 9,
    "start_time": "2021-08-16T07:46:28.673Z"
   },
   {
    "duration": 34,
    "start_time": "2021-08-16T07:46:28.684Z"
   },
   {
    "duration": 411,
    "start_time": "2021-08-16T07:46:28.720Z"
   },
   {
    "duration": 590,
    "start_time": "2021-08-16T07:46:29.133Z"
   },
   {
    "duration": 469,
    "start_time": "2021-08-16T07:46:29.725Z"
   },
   {
    "duration": 404,
    "start_time": "2021-08-16T07:46:30.200Z"
   },
   {
    "duration": 464,
    "start_time": "2021-08-16T07:46:30.607Z"
   },
   {
    "duration": 501,
    "start_time": "2021-08-16T07:46:31.073Z"
   },
   {
    "duration": 5,
    "start_time": "2021-08-16T07:46:31.577Z"
   },
   {
    "duration": 449,
    "start_time": "2021-08-16T07:46:31.585Z"
   },
   {
    "duration": 6,
    "start_time": "2021-08-16T07:46:32.036Z"
   },
   {
    "duration": 222,
    "start_time": "2021-08-16T07:46:32.044Z"
   },
   {
    "duration": 9,
    "start_time": "2021-08-16T07:46:32.269Z"
   },
   {
    "duration": 21,
    "start_time": "2021-08-16T07:46:32.280Z"
   },
   {
    "duration": 14,
    "start_time": "2021-08-16T07:46:32.313Z"
   },
   {
    "duration": 27,
    "start_time": "2021-08-16T07:46:32.330Z"
   },
   {
    "duration": 16,
    "start_time": "2021-08-16T07:46:32.360Z"
   },
   {
    "duration": 40,
    "start_time": "2021-08-16T07:46:32.378Z"
   },
   {
    "duration": 13,
    "start_time": "2021-08-16T07:46:32.420Z"
   },
   {
    "duration": 16,
    "start_time": "2021-08-16T07:46:32.436Z"
   },
   {
    "duration": 13,
    "start_time": "2021-08-16T07:50:01.440Z"
   },
   {
    "duration": 1400,
    "start_time": "2021-08-16T07:50:09.912Z"
   },
   {
    "duration": 841,
    "start_time": "2021-08-16T07:50:11.316Z"
   },
   {
    "duration": 28,
    "start_time": "2021-08-16T07:50:12.161Z"
   },
   {
    "duration": 20,
    "start_time": "2021-08-16T07:50:12.192Z"
   },
   {
    "duration": 5,
    "start_time": "2021-08-16T07:50:12.218Z"
   },
   {
    "duration": 17,
    "start_time": "2021-08-16T07:50:12.231Z"
   },
   {
    "duration": 40,
    "start_time": "2021-08-16T07:50:12.251Z"
   },
   {
    "duration": 25,
    "start_time": "2021-08-16T07:50:12.304Z"
   },
   {
    "duration": 12,
    "start_time": "2021-08-16T07:50:12.333Z"
   },
   {
    "duration": 72,
    "start_time": "2021-08-16T07:50:12.348Z"
   },
   {
    "duration": 11,
    "start_time": "2021-08-16T07:50:12.423Z"
   },
   {
    "duration": 11,
    "start_time": "2021-08-16T07:50:12.437Z"
   },
   {
    "duration": 16,
    "start_time": "2021-08-16T07:50:12.450Z"
   },
   {
    "duration": 47,
    "start_time": "2021-08-16T07:50:12.469Z"
   },
   {
    "duration": 9,
    "start_time": "2021-08-16T07:50:12.519Z"
   },
   {
    "duration": 11,
    "start_time": "2021-08-16T07:50:12.530Z"
   },
   {
    "duration": 12,
    "start_time": "2021-08-16T07:50:12.544Z"
   },
   {
    "duration": 58,
    "start_time": "2021-08-16T07:50:12.558Z"
   },
   {
    "duration": 18,
    "start_time": "2021-08-16T07:50:12.618Z"
   },
   {
    "duration": 18,
    "start_time": "2021-08-16T07:50:12.638Z"
   },
   {
    "duration": 52,
    "start_time": "2021-08-16T07:50:12.659Z"
   },
   {
    "duration": 391,
    "start_time": "2021-08-16T07:50:12.715Z"
   },
   {
    "duration": 276,
    "start_time": "2021-08-16T07:50:13.113Z"
   },
   {
    "duration": 9,
    "start_time": "2021-08-16T07:50:13.392Z"
   },
   {
    "duration": 16,
    "start_time": "2021-08-16T07:50:13.404Z"
   },
   {
    "duration": 476,
    "start_time": "2021-08-16T07:50:13.423Z"
   },
   {
    "duration": 391,
    "start_time": "2021-08-16T07:50:13.902Z"
   },
   {
    "duration": 458,
    "start_time": "2021-08-16T07:50:14.300Z"
   },
   {
    "duration": 417,
    "start_time": "2021-08-16T07:50:14.760Z"
   },
   {
    "duration": 477,
    "start_time": "2021-08-16T07:50:15.179Z"
   },
   {
    "duration": 467,
    "start_time": "2021-08-16T07:50:15.659Z"
   },
   {
    "duration": 7,
    "start_time": "2021-08-16T07:50:16.128Z"
   },
   {
    "duration": 452,
    "start_time": "2021-08-16T07:50:16.137Z"
   },
   {
    "duration": 12,
    "start_time": "2021-08-16T07:50:16.592Z"
   },
   {
    "duration": 220,
    "start_time": "2021-08-16T07:50:16.607Z"
   },
   {
    "duration": 9,
    "start_time": "2021-08-16T07:50:16.830Z"
   },
   {
    "duration": 8,
    "start_time": "2021-08-16T07:50:16.841Z"
   },
   {
    "duration": 15,
    "start_time": "2021-08-16T07:50:16.852Z"
   },
   {
    "duration": 41,
    "start_time": "2021-08-16T07:50:16.870Z"
   },
   {
    "duration": 15,
    "start_time": "2021-08-16T07:50:16.916Z"
   },
   {
    "duration": 14,
    "start_time": "2021-08-16T07:50:16.934Z"
   },
   {
    "duration": 10,
    "start_time": "2021-08-16T07:50:16.950Z"
   },
   {
    "duration": 19,
    "start_time": "2021-08-16T07:50:17.000Z"
   },
   {
    "duration": 1482,
    "start_time": "2021-08-16T07:52:08.285Z"
   },
   {
    "duration": 775,
    "start_time": "2021-08-16T07:52:09.769Z"
   },
   {
    "duration": 21,
    "start_time": "2021-08-16T07:52:10.546Z"
   },
   {
    "duration": 18,
    "start_time": "2021-08-16T07:52:10.569Z"
   },
   {
    "duration": 5,
    "start_time": "2021-08-16T07:52:10.590Z"
   },
   {
    "duration": 21,
    "start_time": "2021-08-16T07:52:10.597Z"
   },
   {
    "duration": 19,
    "start_time": "2021-08-16T07:52:10.621Z"
   },
   {
    "duration": 17,
    "start_time": "2021-08-16T07:52:10.644Z"
   },
   {
    "duration": 8,
    "start_time": "2021-08-16T07:52:10.663Z"
   },
   {
    "duration": 34,
    "start_time": "2021-08-16T07:52:10.701Z"
   },
   {
    "duration": 10,
    "start_time": "2021-08-16T07:52:10.737Z"
   },
   {
    "duration": 11,
    "start_time": "2021-08-16T07:52:10.750Z"
   },
   {
    "duration": 20,
    "start_time": "2021-08-16T07:52:10.802Z"
   },
   {
    "duration": 11,
    "start_time": "2021-08-16T07:52:10.824Z"
   },
   {
    "duration": 9,
    "start_time": "2021-08-16T07:52:10.837Z"
   },
   {
    "duration": 10,
    "start_time": "2021-08-16T07:52:10.849Z"
   },
   {
    "duration": 16,
    "start_time": "2021-08-16T07:52:10.902Z"
   },
   {
    "duration": 16,
    "start_time": "2021-08-16T07:52:10.921Z"
   },
   {
    "duration": 18,
    "start_time": "2021-08-16T07:52:10.940Z"
   },
   {
    "duration": 42,
    "start_time": "2021-08-16T07:52:10.960Z"
   },
   {
    "duration": 11,
    "start_time": "2021-08-16T07:52:11.005Z"
   },
   {
    "duration": 520,
    "start_time": "2021-08-16T07:52:11.020Z"
   },
   {
    "duration": 288,
    "start_time": "2021-08-16T07:52:11.545Z"
   },
   {
    "duration": 9,
    "start_time": "2021-08-16T07:52:11.836Z"
   },
   {
    "duration": 12,
    "start_time": "2021-08-16T07:52:11.847Z"
   },
   {
    "duration": 453,
    "start_time": "2021-08-16T07:52:11.861Z"
   },
   {
    "duration": 405,
    "start_time": "2021-08-16T07:52:12.317Z"
   },
   {
    "duration": 468,
    "start_time": "2021-08-16T07:52:12.724Z"
   },
   {
    "duration": 418,
    "start_time": "2021-08-16T07:52:13.195Z"
   },
   {
    "duration": 454,
    "start_time": "2021-08-16T07:52:13.616Z"
   },
   {
    "duration": 446,
    "start_time": "2021-08-16T07:52:14.072Z"
   },
   {
    "duration": 6,
    "start_time": "2021-08-16T07:52:14.521Z"
   },
   {
    "duration": 409,
    "start_time": "2021-08-16T07:52:14.529Z"
   },
   {
    "duration": 6,
    "start_time": "2021-08-16T07:52:14.940Z"
   },
   {
    "duration": 208,
    "start_time": "2021-08-16T07:52:14.948Z"
   },
   {
    "duration": 8,
    "start_time": "2021-08-16T07:52:15.159Z"
   },
   {
    "duration": 15,
    "start_time": "2021-08-16T07:52:15.170Z"
   },
   {
    "duration": 28,
    "start_time": "2021-08-16T07:52:15.187Z"
   },
   {
    "duration": 13,
    "start_time": "2021-08-16T07:52:15.218Z"
   },
   {
    "duration": 11,
    "start_time": "2021-08-16T07:52:15.234Z"
   },
   {
    "duration": 55,
    "start_time": "2021-08-16T07:52:15.247Z"
   },
   {
    "duration": 14,
    "start_time": "2021-08-16T07:52:15.305Z"
   },
   {
    "duration": 15,
    "start_time": "2021-08-16T07:52:15.321Z"
   },
   {
    "duration": 1581,
    "start_time": "2021-08-16T21:49:18.792Z"
   },
   {
    "duration": 326,
    "start_time": "2021-08-16T21:49:20.376Z"
   },
   {
    "duration": 24,
    "start_time": "2021-08-16T21:49:20.705Z"
   },
   {
    "duration": 24,
    "start_time": "2021-08-16T21:49:20.732Z"
   },
   {
    "duration": 10,
    "start_time": "2021-08-16T21:49:20.759Z"
   },
   {
    "duration": 15,
    "start_time": "2021-08-16T21:49:20.771Z"
   },
   {
    "duration": 17,
    "start_time": "2021-08-16T21:49:20.788Z"
   },
   {
    "duration": 15,
    "start_time": "2021-08-16T21:49:20.809Z"
   },
   {
    "duration": 9,
    "start_time": "2021-08-16T21:49:20.855Z"
   },
   {
    "duration": 33,
    "start_time": "2021-08-16T21:49:20.867Z"
   },
   {
    "duration": 11,
    "start_time": "2021-08-16T21:49:20.903Z"
   },
   {
    "duration": 13,
    "start_time": "2021-08-16T21:49:20.916Z"
   },
   {
    "duration": 20,
    "start_time": "2021-08-16T21:49:20.956Z"
   },
   {
    "duration": 16,
    "start_time": "2021-08-16T21:49:20.979Z"
   },
   {
    "duration": 9,
    "start_time": "2021-08-16T21:49:20.998Z"
   },
   {
    "duration": 15,
    "start_time": "2021-08-16T21:49:21.009Z"
   },
   {
    "duration": 37,
    "start_time": "2021-08-16T21:49:21.027Z"
   },
   {
    "duration": 13,
    "start_time": "2021-08-16T21:49:21.067Z"
   },
   {
    "duration": 14,
    "start_time": "2021-08-16T21:49:21.083Z"
   },
   {
    "duration": 18,
    "start_time": "2021-08-16T21:49:21.100Z"
   },
   {
    "duration": 39,
    "start_time": "2021-08-16T21:49:21.121Z"
   },
   {
    "duration": 265,
    "start_time": "2021-08-16T21:49:21.163Z"
   },
   {
    "duration": 211,
    "start_time": "2021-08-16T21:49:21.433Z"
   },
   {
    "duration": 12,
    "start_time": "2021-08-16T21:49:21.647Z"
   },
   {
    "duration": 17,
    "start_time": "2021-08-16T21:49:21.661Z"
   },
   {
    "duration": 439,
    "start_time": "2021-08-16T21:49:21.680Z"
   },
   {
    "duration": 413,
    "start_time": "2021-08-16T21:49:22.121Z"
   },
   {
    "duration": 373,
    "start_time": "2021-08-16T21:49:22.536Z"
   },
   {
    "duration": 821,
    "start_time": "2021-08-16T21:49:22.911Z"
   },
   {
    "duration": 2297,
    "start_time": "2021-08-16T21:49:21.438Z"
   },
   {
    "duration": 2286,
    "start_time": "2021-08-16T21:49:21.450Z"
   },
   {
    "duration": 2284,
    "start_time": "2021-08-16T21:49:21.453Z"
   },
   {
    "duration": 2282,
    "start_time": "2021-08-16T21:49:21.457Z"
   },
   {
    "duration": 2292,
    "start_time": "2021-08-16T21:49:21.463Z"
   },
   {
    "duration": 2290,
    "start_time": "2021-08-16T21:49:21.467Z"
   },
   {
    "duration": 2287,
    "start_time": "2021-08-16T21:49:21.471Z"
   },
   {
    "duration": 2285,
    "start_time": "2021-08-16T21:49:21.475Z"
   },
   {
    "duration": 2282,
    "start_time": "2021-08-16T21:49:21.479Z"
   },
   {
    "duration": 2278,
    "start_time": "2021-08-16T21:49:21.484Z"
   },
   {
    "duration": 2276,
    "start_time": "2021-08-16T21:49:21.487Z"
   },
   {
    "duration": 2273,
    "start_time": "2021-08-16T21:49:21.492Z"
   },
   {
    "duration": 2270,
    "start_time": "2021-08-16T21:49:21.496Z"
   },
   {
    "duration": 2267,
    "start_time": "2021-08-16T21:49:21.500Z"
   },
   {
    "duration": 1532,
    "start_time": "2021-08-16T21:49:42.127Z"
   },
   {
    "duration": 315,
    "start_time": "2021-08-16T21:49:43.661Z"
   },
   {
    "duration": 25,
    "start_time": "2021-08-16T21:49:43.982Z"
   },
   {
    "duration": 24,
    "start_time": "2021-08-16T21:49:44.009Z"
   },
   {
    "duration": 20,
    "start_time": "2021-08-16T21:49:44.036Z"
   },
   {
    "duration": 17,
    "start_time": "2021-08-16T21:49:44.059Z"
   },
   {
    "duration": 14,
    "start_time": "2021-08-16T21:49:44.080Z"
   },
   {
    "duration": 14,
    "start_time": "2021-08-16T21:49:44.097Z"
   },
   {
    "duration": 43,
    "start_time": "2021-08-16T21:49:44.114Z"
   },
   {
    "duration": 24,
    "start_time": "2021-08-16T21:49:44.159Z"
   },
   {
    "duration": 10,
    "start_time": "2021-08-16T21:49:44.186Z"
   },
   {
    "duration": 7,
    "start_time": "2021-08-16T21:49:44.198Z"
   },
   {
    "duration": 62,
    "start_time": "2021-08-16T21:49:44.207Z"
   },
   {
    "duration": 12,
    "start_time": "2021-08-16T21:49:44.271Z"
   },
   {
    "duration": 9,
    "start_time": "2021-08-16T21:49:44.285Z"
   },
   {
    "duration": 10,
    "start_time": "2021-08-16T21:49:44.297Z"
   },
   {
    "duration": 53,
    "start_time": "2021-08-16T21:49:44.309Z"
   },
   {
    "duration": 18,
    "start_time": "2021-08-16T21:49:44.364Z"
   },
   {
    "duration": 15,
    "start_time": "2021-08-16T21:49:44.384Z"
   },
   {
    "duration": 19,
    "start_time": "2021-08-16T21:49:44.401Z"
   },
   {
    "duration": 40,
    "start_time": "2021-08-16T21:49:44.422Z"
   },
   {
    "duration": 260,
    "start_time": "2021-08-16T21:49:44.467Z"
   },
   {
    "duration": 204,
    "start_time": "2021-08-16T21:49:44.731Z"
   },
   {
    "duration": 19,
    "start_time": "2021-08-16T21:49:44.937Z"
   },
   {
    "duration": 9,
    "start_time": "2021-08-16T21:49:44.959Z"
   },
   {
    "duration": 473,
    "start_time": "2021-08-16T21:49:44.970Z"
   },
   {
    "duration": 385,
    "start_time": "2021-08-16T21:49:45.446Z"
   },
   {
    "duration": 382,
    "start_time": "2021-08-16T21:49:45.833Z"
   },
   {
    "duration": 829,
    "start_time": "2021-08-16T21:49:46.217Z"
   },
   {
    "duration": 2294,
    "start_time": "2021-08-16T21:49:44.762Z"
   },
   {
    "duration": 2291,
    "start_time": "2021-08-16T21:49:44.766Z"
   },
   {
    "duration": 2287,
    "start_time": "2021-08-16T21:49:44.772Z"
   },
   {
    "duration": 2283,
    "start_time": "2021-08-16T21:49:44.777Z"
   },
   {
    "duration": 2280,
    "start_time": "2021-08-16T21:49:44.782Z"
   },
   {
    "duration": 2274,
    "start_time": "2021-08-16T21:49:44.789Z"
   },
   {
    "duration": 2272,
    "start_time": "2021-08-16T21:49:44.793Z"
   },
   {
    "duration": 2269,
    "start_time": "2021-08-16T21:49:44.797Z"
   },
   {
    "duration": 2266,
    "start_time": "2021-08-16T21:49:44.801Z"
   },
   {
    "duration": 2262,
    "start_time": "2021-08-16T21:49:44.806Z"
   },
   {
    "duration": 2259,
    "start_time": "2021-08-16T21:49:44.811Z"
   },
   {
    "duration": 2257,
    "start_time": "2021-08-16T21:49:44.814Z"
   },
   {
    "duration": 2252,
    "start_time": "2021-08-16T21:49:44.821Z"
   },
   {
    "duration": 2249,
    "start_time": "2021-08-16T21:49:44.826Z"
   },
   {
    "duration": 438,
    "start_time": "2021-08-17T07:58:40.407Z"
   },
   {
    "duration": 1395,
    "start_time": "2021-08-17T07:58:48.732Z"
   },
   {
    "duration": 831,
    "start_time": "2021-08-17T07:58:50.130Z"
   },
   {
    "duration": 20,
    "start_time": "2021-08-17T07:58:50.964Z"
   },
   {
    "duration": 28,
    "start_time": "2021-08-17T07:58:50.987Z"
   },
   {
    "duration": 5,
    "start_time": "2021-08-17T07:58:51.018Z"
   },
   {
    "duration": 41,
    "start_time": "2021-08-17T07:58:51.025Z"
   },
   {
    "duration": 21,
    "start_time": "2021-08-17T07:58:51.069Z"
   },
   {
    "duration": 18,
    "start_time": "2021-08-17T07:58:51.093Z"
   },
   {
    "duration": 8,
    "start_time": "2021-08-17T07:58:51.114Z"
   },
   {
    "duration": 26,
    "start_time": "2021-08-17T07:58:51.157Z"
   },
   {
    "duration": 11,
    "start_time": "2021-08-17T07:58:51.185Z"
   },
   {
    "duration": 9,
    "start_time": "2021-08-17T07:58:51.198Z"
   },
   {
    "duration": 55,
    "start_time": "2021-08-17T07:58:51.209Z"
   },
   {
    "duration": 18,
    "start_time": "2021-08-17T07:58:51.267Z"
   },
   {
    "duration": 12,
    "start_time": "2021-08-17T07:58:51.288Z"
   },
   {
    "duration": 13,
    "start_time": "2021-08-17T07:58:51.302Z"
   },
   {
    "duration": 13,
    "start_time": "2021-08-17T07:58:51.317Z"
   },
   {
    "duration": 10,
    "start_time": "2021-08-17T07:58:51.357Z"
   },
   {
    "duration": 21,
    "start_time": "2021-08-17T07:58:51.370Z"
   },
   {
    "duration": 16,
    "start_time": "2021-08-17T07:58:51.394Z"
   },
   {
    "duration": 8,
    "start_time": "2021-08-17T07:58:51.412Z"
   },
   {
    "duration": 379,
    "start_time": "2021-08-17T07:58:51.422Z"
   },
   {
    "duration": 273,
    "start_time": "2021-08-17T07:58:51.806Z"
   },
   {
    "duration": 9,
    "start_time": "2021-08-17T07:58:52.081Z"
   },
   {
    "duration": 13,
    "start_time": "2021-08-17T07:58:52.092Z"
   },
   {
    "duration": 391,
    "start_time": "2021-08-17T07:58:52.108Z"
   },
   {
    "duration": 367,
    "start_time": "2021-08-17T07:58:52.502Z"
   },
   {
    "duration": 451,
    "start_time": "2021-08-17T07:58:52.872Z"
   },
   {
    "duration": 404,
    "start_time": "2021-08-17T07:58:53.325Z"
   },
   {
    "duration": 470,
    "start_time": "2021-08-17T07:58:53.732Z"
   },
   {
    "duration": 412,
    "start_time": "2021-08-17T07:58:54.205Z"
   },
   {
    "duration": 6,
    "start_time": "2021-08-17T07:58:54.619Z"
   },
   {
    "duration": 444,
    "start_time": "2021-08-17T07:58:54.627Z"
   },
   {
    "duration": 5,
    "start_time": "2021-08-17T07:58:55.074Z"
   },
   {
    "duration": 199,
    "start_time": "2021-08-17T07:58:55.082Z"
   },
   {
    "duration": 8,
    "start_time": "2021-08-17T07:58:55.284Z"
   },
   {
    "duration": 8,
    "start_time": "2021-08-17T07:58:55.294Z"
   },
   {
    "duration": 10,
    "start_time": "2021-08-17T07:58:55.305Z"
   },
   {
    "duration": 38,
    "start_time": "2021-08-17T07:58:55.318Z"
   },
   {
    "duration": 14,
    "start_time": "2021-08-17T07:58:55.359Z"
   },
   {
    "duration": 15,
    "start_time": "2021-08-17T07:58:55.375Z"
   },
   {
    "duration": 12,
    "start_time": "2021-08-17T07:58:55.392Z"
   },
   {
    "duration": 54,
    "start_time": "2021-08-17T07:58:55.407Z"
   },
   {
    "duration": 1028,
    "start_time": "2021-08-18T02:03:13.486Z"
   },
   {
    "duration": 961,
    "start_time": "2021-08-18T02:03:14.516Z"
   },
   {
    "duration": 13,
    "start_time": "2021-08-18T02:03:15.479Z"
   },
   {
    "duration": 12,
    "start_time": "2021-08-18T02:03:15.493Z"
   },
   {
    "duration": 3,
    "start_time": "2021-08-18T02:03:15.506Z"
   },
   {
    "duration": 9,
    "start_time": "2021-08-18T02:03:15.511Z"
   },
   {
    "duration": 13,
    "start_time": "2021-08-18T02:03:15.522Z"
   },
   {
    "duration": 10,
    "start_time": "2021-08-18T02:03:15.537Z"
   },
   {
    "duration": 4,
    "start_time": "2021-08-18T02:03:15.549Z"
   },
   {
    "duration": 49,
    "start_time": "2021-08-18T02:03:15.555Z"
   },
   {
    "duration": 7,
    "start_time": "2021-08-18T02:03:15.605Z"
   },
   {
    "duration": 6,
    "start_time": "2021-08-18T02:03:15.613Z"
   },
   {
    "duration": 12,
    "start_time": "2021-08-18T02:03:15.621Z"
   },
   {
    "duration": 9,
    "start_time": "2021-08-18T02:03:15.635Z"
   },
   {
    "duration": 9,
    "start_time": "2021-08-18T02:03:15.645Z"
   },
   {
    "duration": 13,
    "start_time": "2021-08-18T02:03:15.655Z"
   },
   {
    "duration": 25,
    "start_time": "2021-08-18T02:03:15.669Z"
   },
   {
    "duration": 6,
    "start_time": "2021-08-18T02:03:15.695Z"
   },
   {
    "duration": 12,
    "start_time": "2021-08-18T02:03:15.703Z"
   },
   {
    "duration": 9,
    "start_time": "2021-08-18T02:03:15.716Z"
   },
   {
    "duration": 9,
    "start_time": "2021-08-18T02:03:15.726Z"
   },
   {
    "duration": 211,
    "start_time": "2021-08-18T02:03:15.736Z"
   },
   {
    "duration": 147,
    "start_time": "2021-08-18T02:03:15.950Z"
   },
   {
    "duration": 6,
    "start_time": "2021-08-18T02:03:16.099Z"
   },
   {
    "duration": 5,
    "start_time": "2021-08-18T02:03:16.106Z"
   },
   {
    "duration": 216,
    "start_time": "2021-08-18T02:03:16.113Z"
   },
   {
    "duration": 208,
    "start_time": "2021-08-18T02:03:16.331Z"
   },
   {
    "duration": 303,
    "start_time": "2021-08-18T02:03:16.541Z"
   },
   {
    "duration": 214,
    "start_time": "2021-08-18T02:03:16.846Z"
   },
   {
    "duration": 350,
    "start_time": "2021-08-18T02:03:17.062Z"
   },
   {
    "duration": 287,
    "start_time": "2021-08-18T02:03:17.413Z"
   },
   {
    "duration": 4,
    "start_time": "2021-08-18T02:03:17.702Z"
   },
   {
    "duration": 294,
    "start_time": "2021-08-18T02:03:17.707Z"
   },
   {
    "duration": 5,
    "start_time": "2021-08-18T02:03:18.002Z"
   },
   {
    "duration": 99,
    "start_time": "2021-08-18T02:03:18.008Z"
   },
   {
    "duration": 5,
    "start_time": "2021-08-18T02:03:18.109Z"
   },
   {
    "duration": 10,
    "start_time": "2021-08-18T02:03:18.115Z"
   },
   {
    "duration": 23,
    "start_time": "2021-08-18T02:03:18.126Z"
   },
   {
    "duration": 15,
    "start_time": "2021-08-18T02:03:18.150Z"
   },
   {
    "duration": 15,
    "start_time": "2021-08-18T02:03:18.167Z"
   },
   {
    "duration": 8,
    "start_time": "2021-08-18T02:03:18.183Z"
   },
   {
    "duration": 14,
    "start_time": "2021-08-18T02:03:18.193Z"
   },
   {
    "duration": 15,
    "start_time": "2021-08-18T02:03:18.208Z"
   },
   {
    "duration": 956,
    "start_time": "2021-08-18T07:47:24.500Z"
   },
   {
    "duration": 492,
    "start_time": "2021-08-18T07:47:25.458Z"
   },
   {
    "duration": 13,
    "start_time": "2021-08-18T07:47:25.953Z"
   },
   {
    "duration": 22,
    "start_time": "2021-08-18T07:47:25.968Z"
   },
   {
    "duration": 3,
    "start_time": "2021-08-18T07:47:25.992Z"
   },
   {
    "duration": 10,
    "start_time": "2021-08-18T07:47:25.996Z"
   },
   {
    "duration": 12,
    "start_time": "2021-08-18T07:47:26.008Z"
   },
   {
    "duration": 10,
    "start_time": "2021-08-18T07:47:26.022Z"
   },
   {
    "duration": 5,
    "start_time": "2021-08-18T07:47:26.033Z"
   },
   {
    "duration": 22,
    "start_time": "2021-08-18T07:47:26.039Z"
   },
   {
    "duration": 32,
    "start_time": "2021-08-18T07:47:26.062Z"
   },
   {
    "duration": 4,
    "start_time": "2021-08-18T07:47:26.096Z"
   },
   {
    "duration": 16,
    "start_time": "2021-08-18T07:47:26.101Z"
   },
   {
    "duration": 12,
    "start_time": "2021-08-18T07:47:26.118Z"
   },
   {
    "duration": 14,
    "start_time": "2021-08-18T07:47:26.132Z"
   },
   {
    "duration": 15,
    "start_time": "2021-08-18T07:47:26.147Z"
   },
   {
    "duration": 14,
    "start_time": "2021-08-18T07:47:26.164Z"
   },
   {
    "duration": 37,
    "start_time": "2021-08-18T07:47:26.180Z"
   },
   {
    "duration": 14,
    "start_time": "2021-08-18T07:47:26.219Z"
   },
   {
    "duration": 15,
    "start_time": "2021-08-18T07:47:26.234Z"
   },
   {
    "duration": 14,
    "start_time": "2021-08-18T07:47:26.250Z"
   },
   {
    "duration": 214,
    "start_time": "2021-08-18T07:47:26.266Z"
   },
   {
    "duration": 141,
    "start_time": "2021-08-18T07:47:26.482Z"
   },
   {
    "duration": 6,
    "start_time": "2021-08-18T07:47:26.624Z"
   },
   {
    "duration": 11,
    "start_time": "2021-08-18T07:47:26.632Z"
   },
   {
    "duration": 226,
    "start_time": "2021-08-18T07:47:26.644Z"
   },
   {
    "duration": 221,
    "start_time": "2021-08-18T07:47:26.872Z"
   },
   {
    "duration": 312,
    "start_time": "2021-08-18T07:47:27.095Z"
   },
   {
    "duration": 222,
    "start_time": "2021-08-18T07:47:27.409Z"
   },
   {
    "duration": 272,
    "start_time": "2021-08-18T07:47:27.632Z"
   },
   {
    "duration": 278,
    "start_time": "2021-08-18T07:47:27.905Z"
   },
   {
    "duration": 9,
    "start_time": "2021-08-18T07:47:28.184Z"
   },
   {
    "duration": 283,
    "start_time": "2021-08-18T07:47:28.194Z"
   },
   {
    "duration": 13,
    "start_time": "2021-08-18T07:47:28.478Z"
   },
   {
    "duration": 109,
    "start_time": "2021-08-18T07:47:28.493Z"
   },
   {
    "duration": 6,
    "start_time": "2021-08-18T07:47:28.603Z"
   },
   {
    "duration": 9,
    "start_time": "2021-08-18T07:47:28.610Z"
   },
   {
    "duration": 8,
    "start_time": "2021-08-18T07:47:28.621Z"
   },
   {
    "duration": 8,
    "start_time": "2021-08-18T07:47:28.631Z"
   },
   {
    "duration": 8,
    "start_time": "2021-08-18T07:47:28.640Z"
   },
   {
    "duration": 9,
    "start_time": "2021-08-18T07:47:28.649Z"
   },
   {
    "duration": 14,
    "start_time": "2021-08-18T07:47:28.660Z"
   },
   {
    "duration": 21,
    "start_time": "2021-08-18T07:47:28.675Z"
   }
  ],
  "kernelspec": {
   "display_name": "Python 3",
   "language": "python",
   "name": "python3"
  },
  "language_info": {
   "codemirror_mode": {
    "name": "ipython",
    "version": 3
   },
   "file_extension": ".py",
   "mimetype": "text/x-python",
   "name": "python",
   "nbconvert_exporter": "python",
   "pygments_lexer": "ipython3",
   "version": "3.8.3"
  },
  "toc": {
   "base_numbering": 1,
   "nav_menu": {},
   "number_sections": true,
   "sideBar": true,
   "skip_h1_title": true,
   "title_cell": "Table of Contents",
   "title_sidebar": "Contents",
   "toc_cell": false,
   "toc_position": {
    "height": "calc(100% - 180px)",
    "left": "10px",
    "top": "150px",
    "width": "153.438px"
   },
   "toc_section_display": true,
   "toc_window_display": true
  }
 },
 "nbformat": 4,
 "nbformat_minor": 4
}
